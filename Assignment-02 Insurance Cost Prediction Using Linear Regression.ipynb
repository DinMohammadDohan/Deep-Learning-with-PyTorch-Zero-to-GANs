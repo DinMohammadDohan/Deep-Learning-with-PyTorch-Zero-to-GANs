{
 "cells": [
  {
   "cell_type": "markdown",
   "metadata": {
    "_cell_guid": "b1076dfc-b9ad-4769-8c92-a6c4dae69d19",
    "_uuid": "8f2839f25d086af736a60e9eeb907d3b93b6e0e5",
    "id": "2WRy1ewNBnqT"
   },
   "source": [
    "# Insurance cost prediction using linear regression\n",
    "\n",
    "Make a submisson here: https://jovian.ai/learn/deep-learning-with-pytorch-zero-to-gans/assignment/assignment-2-train-your-first-model\n",
    "\n",
    "In this assignment we're going to use information like a person's age, sex, BMI, no. of children and smoking habit to predict the price of yearly medical bills. This kind of model is useful for insurance companies to determine the yearly insurance premium for a person. The dataset for this problem is taken from [Kaggle](https://www.kaggle.com/mirichoi0218/insurance).\n",
    "\n",
    "\n",
    "We will create a model with the following steps:\n",
    "1. Download and explore the dataset\n",
    "2. Prepare the dataset for training\n",
    "3. Create a linear regression model\n",
    "4. Train the model to fit the data\n",
    "5. Make predictions using the trained model\n",
    "\n",
    "\n",
    "This assignment builds upon the concepts from the first 2 lessons. It will help to review these Jupyter notebooks:\n",
    "- PyTorch basics: https://jovian.ai/aakashns/01-pytorch-basics\n",
    "- Linear Regression: https://jovian.ai/aakashns/02-linear-regression\n",
    "- Logistic Regression: https://jovian.ai/aakashns/03-logistic-regression\n",
    "- Linear regression (minimal): https://jovian.ai/aakashns/housing-linear-minimal\n",
    "- Logistic regression (minimal): https://jovian.ai/aakashns/mnist-logistic-minimal\n",
    "\n",
    "As you go through this notebook, you will find a **???** in certain places. Your job is to replace the **???** with appropriate code or values, to ensure that the notebook runs properly end-to-end . In some cases, you'll be required to choose some hyperparameters (learning rate, batch size etc.). Try to experiment with the hypeparameters to get the lowest loss.\n"
   ]
  },
  {
   "cell_type": "code",
   "execution_count": 1,
   "metadata": {
    "executionInfo": {
     "elapsed": 15,
     "status": "ok",
     "timestamp": 1674146711345,
     "user": {
      "displayName": "Din Mohammad Dohan",
      "userId": "06140535210708391819"
     },
     "user_tz": -360
    },
    "id": "tnASte0fBnqa"
   },
   "outputs": [],
   "source": [
    "# Uncomment and run the appropriate command for your operating system, if required\n",
    "\n",
    "# Linux / Binder\n",
    "# !pip install numpy matplotlib pandas torch==1.7.0+cpu torchvision==0.8.1+cpu torchaudio==0.7.0 -f https://download.pytorch.org/whl/torch_stable.html\n",
    "\n",
    "# Windows\n",
    "# !pip install numpy matplotlib pandas torch==1.7.0+cpu torchvision==0.8.1+cpu torchaudio==0.7.0 -f https://download.pytorch.org/whl/torch_stable.html\n",
    "\n",
    "# MacOS\n",
    "# !pip install numpy matplotlib pandas torch torchvision torchaudio"
   ]
  },
  {
   "cell_type": "code",
   "execution_count": 2,
   "metadata": {
    "executionInfo": {
     "elapsed": 4785,
     "status": "ok",
     "timestamp": 1674146716116,
     "user": {
      "displayName": "Din Mohammad Dohan",
      "userId": "06140535210708391819"
     },
     "user_tz": -360
    },
    "id": "YGqqxidNC5uB"
   },
   "outputs": [],
   "source": [
    "# Install the library\n",
    "!pip install jovian --upgrade --quiet"
   ]
  },
  {
   "cell_type": "code",
   "execution_count": 3,
   "metadata": {
    "executionInfo": {
     "elapsed": 2314,
     "status": "ok",
     "timestamp": 1674146718422,
     "user": {
      "displayName": "Din Mohammad Dohan",
      "userId": "06140535210708391819"
     },
     "user_tz": -360
    },
    "id": "N0H2nmyXBnqd"
   },
   "outputs": [],
   "source": [
    "import torch\n",
    "import jovian\n",
    "import torchvision\n",
    "import torch.nn as nn\n",
    "import pandas as pd\n",
    "import matplotlib.pyplot as plt\n",
    "import torch.nn.functional as F\n",
    "from torchvision.datasets.utils import download_url\n",
    "from torch.utils.data import DataLoader, TensorDataset, random_split"
   ]
  },
  {
   "cell_type": "code",
   "execution_count": 4,
   "metadata": {
    "executionInfo": {
     "elapsed": 59,
     "status": "ok",
     "timestamp": 1674146718429,
     "user": {
      "displayName": "Din Mohammad Dohan",
      "userId": "06140535210708391819"
     },
     "user_tz": -360
    },
    "id": "3T8s0ytzBnqe"
   },
   "outputs": [],
   "source": [
    "project_name='02-insurance-linear-regression' # will be used by jovian.commit"
   ]
  },
  {
   "cell_type": "markdown",
   "metadata": {
    "id": "NfXJ1FomBnqf"
   },
   "source": [
    "## Step 1: Download and explore the data\n",
    "\n",
    "Let us begin by downloading the data. We'll use the `download_url` function from PyTorch to get the data as a CSV (comma-separated values) file. "
   ]
  },
  {
   "cell_type": "code",
   "execution_count": 5,
   "metadata": {
    "_cell_guid": "79c7e3d0-c299-4dcb-8224-4455121ee9b0",
    "_uuid": "d629ff2d2480ee46fbb7e2d37f6b5fab8052498a",
    "colab": {
     "base_uri": "https://localhost:8080/"
    },
    "executionInfo": {
     "elapsed": 58,
     "status": "ok",
     "timestamp": 1674146718430,
     "user": {
      "displayName": "Din Mohammad Dohan",
      "userId": "06140535210708391819"
     },
     "user_tz": -360
    },
    "id": "TX5K-1jOBnqf",
    "outputId": "a72b582a-1aba-4199-cef3-c6e4d238ee29"
   },
   "outputs": [
    {
     "name": "stdout",
     "output_type": "stream",
     "text": [
      "Using downloaded and verified file: ./insurance.csv\n"
     ]
    }
   ],
   "source": [
    "DATASET_URL = \"https://gist.github.com/BirajCoder/5f068dfe759c1ea6bdfce9535acdb72d/raw/c84d84e3c80f93be67f6c069cbdc0195ec36acbd/insurance.csv\"\n",
    "DATA_FILENAME = \"insurance.csv\"\n",
    "download_url(DATASET_URL, '.')"
   ]
  },
  {
   "cell_type": "markdown",
   "metadata": {
    "id": "nnhmWayDBnqh"
   },
   "source": [
    "To load the dataset into memory, we'll use the `read_csv` function from the `pandas` library. The data will be loaded as a Pandas dataframe. See this short tutorial to learn more: https://data36.com/pandas-tutorial-1-basics-reading-data-files-dataframes-data-selection/"
   ]
  },
  {
   "cell_type": "code",
   "execution_count": 6,
   "metadata": {
    "colab": {
     "base_uri": "https://localhost:8080/",
     "height": 206
    },
    "executionInfo": {
     "elapsed": 53,
     "status": "ok",
     "timestamp": 1674146718431,
     "user": {
      "displayName": "Din Mohammad Dohan",
      "userId": "06140535210708391819"
     },
     "user_tz": -360
    },
    "id": "RqDdvvKzBnqi",
    "outputId": "c35c7925-63a8-4441-928f-f854d073e021"
   },
   "outputs": [
    {
     "data": {
      "text/html": [
       "\n",
       "  <div id=\"df-e17c1dd8-ef4c-486c-bf34-34ca711c94dd\">\n",
       "    <div class=\"colab-df-container\">\n",
       "      <div>\n",
       "<style scoped>\n",
       "    .dataframe tbody tr th:only-of-type {\n",
       "        vertical-align: middle;\n",
       "    }\n",
       "\n",
       "    .dataframe tbody tr th {\n",
       "        vertical-align: top;\n",
       "    }\n",
       "\n",
       "    .dataframe thead th {\n",
       "        text-align: right;\n",
       "    }\n",
       "</style>\n",
       "<table border=\"1\" class=\"dataframe\">\n",
       "  <thead>\n",
       "    <tr style=\"text-align: right;\">\n",
       "      <th></th>\n",
       "      <th>age</th>\n",
       "      <th>sex</th>\n",
       "      <th>bmi</th>\n",
       "      <th>children</th>\n",
       "      <th>smoker</th>\n",
       "      <th>region</th>\n",
       "      <th>charges</th>\n",
       "    </tr>\n",
       "  </thead>\n",
       "  <tbody>\n",
       "    <tr>\n",
       "      <th>0</th>\n",
       "      <td>19</td>\n",
       "      <td>female</td>\n",
       "      <td>27.900</td>\n",
       "      <td>0</td>\n",
       "      <td>yes</td>\n",
       "      <td>southwest</td>\n",
       "      <td>16884.92400</td>\n",
       "    </tr>\n",
       "    <tr>\n",
       "      <th>1</th>\n",
       "      <td>18</td>\n",
       "      <td>male</td>\n",
       "      <td>33.770</td>\n",
       "      <td>1</td>\n",
       "      <td>no</td>\n",
       "      <td>southeast</td>\n",
       "      <td>1725.55230</td>\n",
       "    </tr>\n",
       "    <tr>\n",
       "      <th>2</th>\n",
       "      <td>28</td>\n",
       "      <td>male</td>\n",
       "      <td>33.000</td>\n",
       "      <td>3</td>\n",
       "      <td>no</td>\n",
       "      <td>southeast</td>\n",
       "      <td>4449.46200</td>\n",
       "    </tr>\n",
       "    <tr>\n",
       "      <th>3</th>\n",
       "      <td>33</td>\n",
       "      <td>male</td>\n",
       "      <td>22.705</td>\n",
       "      <td>0</td>\n",
       "      <td>no</td>\n",
       "      <td>northwest</td>\n",
       "      <td>21984.47061</td>\n",
       "    </tr>\n",
       "    <tr>\n",
       "      <th>4</th>\n",
       "      <td>32</td>\n",
       "      <td>male</td>\n",
       "      <td>28.880</td>\n",
       "      <td>0</td>\n",
       "      <td>no</td>\n",
       "      <td>northwest</td>\n",
       "      <td>3866.85520</td>\n",
       "    </tr>\n",
       "  </tbody>\n",
       "</table>\n",
       "</div>\n",
       "      <button class=\"colab-df-convert\" onclick=\"convertToInteractive('df-e17c1dd8-ef4c-486c-bf34-34ca711c94dd')\"\n",
       "              title=\"Convert this dataframe to an interactive table.\"\n",
       "              style=\"display:none;\">\n",
       "        \n",
       "  <svg xmlns=\"http://www.w3.org/2000/svg\" height=\"24px\"viewBox=\"0 0 24 24\"\n",
       "       width=\"24px\">\n",
       "    <path d=\"M0 0h24v24H0V0z\" fill=\"none\"/>\n",
       "    <path d=\"M18.56 5.44l.94 2.06.94-2.06 2.06-.94-2.06-.94-.94-2.06-.94 2.06-2.06.94zm-11 1L8.5 8.5l.94-2.06 2.06-.94-2.06-.94L8.5 2.5l-.94 2.06-2.06.94zm10 10l.94 2.06.94-2.06 2.06-.94-2.06-.94-.94-2.06-.94 2.06-2.06.94z\"/><path d=\"M17.41 7.96l-1.37-1.37c-.4-.4-.92-.59-1.43-.59-.52 0-1.04.2-1.43.59L10.3 9.45l-7.72 7.72c-.78.78-.78 2.05 0 2.83L4 21.41c.39.39.9.59 1.41.59.51 0 1.02-.2 1.41-.59l7.78-7.78 2.81-2.81c.8-.78.8-2.07 0-2.86zM5.41 20L4 18.59l7.72-7.72 1.47 1.35L5.41 20z\"/>\n",
       "  </svg>\n",
       "      </button>\n",
       "      \n",
       "  <style>\n",
       "    .colab-df-container {\n",
       "      display:flex;\n",
       "      flex-wrap:wrap;\n",
       "      gap: 12px;\n",
       "    }\n",
       "\n",
       "    .colab-df-convert {\n",
       "      background-color: #E8F0FE;\n",
       "      border: none;\n",
       "      border-radius: 50%;\n",
       "      cursor: pointer;\n",
       "      display: none;\n",
       "      fill: #1967D2;\n",
       "      height: 32px;\n",
       "      padding: 0 0 0 0;\n",
       "      width: 32px;\n",
       "    }\n",
       "\n",
       "    .colab-df-convert:hover {\n",
       "      background-color: #E2EBFA;\n",
       "      box-shadow: 0px 1px 2px rgba(60, 64, 67, 0.3), 0px 1px 3px 1px rgba(60, 64, 67, 0.15);\n",
       "      fill: #174EA6;\n",
       "    }\n",
       "\n",
       "    [theme=dark] .colab-df-convert {\n",
       "      background-color: #3B4455;\n",
       "      fill: #D2E3FC;\n",
       "    }\n",
       "\n",
       "    [theme=dark] .colab-df-convert:hover {\n",
       "      background-color: #434B5C;\n",
       "      box-shadow: 0px 1px 3px 1px rgba(0, 0, 0, 0.15);\n",
       "      filter: drop-shadow(0px 1px 2px rgba(0, 0, 0, 0.3));\n",
       "      fill: #FFFFFF;\n",
       "    }\n",
       "  </style>\n",
       "\n",
       "      <script>\n",
       "        const buttonEl =\n",
       "          document.querySelector('#df-e17c1dd8-ef4c-486c-bf34-34ca711c94dd button.colab-df-convert');\n",
       "        buttonEl.style.display =\n",
       "          google.colab.kernel.accessAllowed ? 'block' : 'none';\n",
       "\n",
       "        async function convertToInteractive(key) {\n",
       "          const element = document.querySelector('#df-e17c1dd8-ef4c-486c-bf34-34ca711c94dd');\n",
       "          const dataTable =\n",
       "            await google.colab.kernel.invokeFunction('convertToInteractive',\n",
       "                                                     [key], {});\n",
       "          if (!dataTable) return;\n",
       "\n",
       "          const docLinkHtml = 'Like what you see? Visit the ' +\n",
       "            '<a target=\"_blank\" href=https://colab.research.google.com/notebooks/data_table.ipynb>data table notebook</a>'\n",
       "            + ' to learn more about interactive tables.';\n",
       "          element.innerHTML = '';\n",
       "          dataTable['output_type'] = 'display_data';\n",
       "          await google.colab.output.renderOutput(dataTable, element);\n",
       "          const docLink = document.createElement('div');\n",
       "          docLink.innerHTML = docLinkHtml;\n",
       "          element.appendChild(docLink);\n",
       "        }\n",
       "      </script>\n",
       "    </div>\n",
       "  </div>\n",
       "  "
      ],
      "text/plain": [
       "   age     sex     bmi  children smoker     region      charges\n",
       "0   19  female  27.900         0    yes  southwest  16884.92400\n",
       "1   18    male  33.770         1     no  southeast   1725.55230\n",
       "2   28    male  33.000         3     no  southeast   4449.46200\n",
       "3   33    male  22.705         0     no  northwest  21984.47061\n",
       "4   32    male  28.880         0     no  northwest   3866.85520"
      ]
     },
     "execution_count": 6,
     "metadata": {},
     "output_type": "execute_result"
    }
   ],
   "source": [
    "dataframe_raw = pd.read_csv(DATA_FILENAME)\n",
    "dataframe_raw.head()"
   ]
  },
  {
   "cell_type": "markdown",
   "metadata": {
    "id": "-BXpWKVABnqi"
   },
   "source": [
    "We're going to do a slight customization of the data, so that you every participant receives a slightly different version of the dataset. Fill in your name below as a string (enter at least 5 characters)"
   ]
  },
  {
   "cell_type": "code",
   "execution_count": 7,
   "metadata": {
    "colab": {
     "base_uri": "https://localhost:8080/"
    },
    "executionInfo": {
     "elapsed": 51,
     "status": "ok",
     "timestamp": 1674146718432,
     "user": {
      "displayName": "Din Mohammad Dohan",
      "userId": "06140535210708391819"
     },
     "user_tz": -360
    },
    "id": "ff1bh4WtBnqj",
    "outputId": "ebe385c4-bd0d-44c5-ff6e-6f0f7c497dd6"
   },
   "outputs": [
    {
     "name": "stdout",
     "output_type": "stream",
     "text": [
      "Name: dinmdohan\n"
     ]
    }
   ],
   "source": [
    "your_name = 'dinmdohan' # at least 5 characters\n",
    "print('Name:', your_name)"
   ]
  },
  {
   "cell_type": "markdown",
   "metadata": {
    "id": "5IucJXrcBnqj"
   },
   "source": [
    "The `customize_dataset` function will customize the dataset slightly using your name as a source of random numbers."
   ]
  },
  {
   "cell_type": "code",
   "execution_count": 8,
   "metadata": {
    "executionInfo": {
     "elapsed": 45,
     "status": "ok",
     "timestamp": 1674146718433,
     "user": {
      "displayName": "Din Mohammad Dohan",
      "userId": "06140535210708391819"
     },
     "user_tz": -360
    },
    "id": "HBWMlyAoBnqk"
   },
   "outputs": [],
   "source": [
    "def customize_dataset(dataframe_raw, rand_str):\n",
    "    dataframe = dataframe_raw.copy(deep=True)\n",
    "\n",
    "    # drop some rows\n",
    "    dataframe = dataframe.sample(int(0.95*len(dataframe)), random_state=int(ord(rand_str[0])))\n",
    "\n",
    "    # scale input\n",
    "    dataframe.bmi = dataframe.bmi * ord(rand_str[1])/100.\n",
    "\n",
    "    # scale target\n",
    "    dataframe.charges = dataframe.charges * ord(rand_str[2])/100.\n",
    "    \n",
    "    # drop column\n",
    "    if ord(rand_str[3]) % 2 == 1:\n",
    "        dataframe = dataframe.drop(['region'], axis=1)\n",
    "    return dataframe"
   ]
  },
  {
   "cell_type": "code",
   "execution_count": 9,
   "metadata": {
    "colab": {
     "base_uri": "https://localhost:8080/",
     "height": 206
    },
    "executionInfo": {
     "elapsed": 556,
     "status": "ok",
     "timestamp": 1674146718944,
     "user": {
      "displayName": "Din Mohammad Dohan",
      "userId": "06140535210708391819"
     },
     "user_tz": -360
    },
    "id": "sM23vJ61Bnqk",
    "outputId": "42eeea23-feaa-4a7c-bbef-9571c14fe042"
   },
   "outputs": [
    {
     "data": {
      "text/html": [
       "\n",
       "  <div id=\"df-01df662b-3e96-4403-ba50-ae91b499e614\">\n",
       "    <div class=\"colab-df-container\">\n",
       "      <div>\n",
       "<style scoped>\n",
       "    .dataframe tbody tr th:only-of-type {\n",
       "        vertical-align: middle;\n",
       "    }\n",
       "\n",
       "    .dataframe tbody tr th {\n",
       "        vertical-align: top;\n",
       "    }\n",
       "\n",
       "    .dataframe thead th {\n",
       "        text-align: right;\n",
       "    }\n",
       "</style>\n",
       "<table border=\"1\" class=\"dataframe\">\n",
       "  <thead>\n",
       "    <tr style=\"text-align: right;\">\n",
       "      <th></th>\n",
       "      <th>age</th>\n",
       "      <th>sex</th>\n",
       "      <th>bmi</th>\n",
       "      <th>children</th>\n",
       "      <th>smoker</th>\n",
       "      <th>charges</th>\n",
       "    </tr>\n",
       "  </thead>\n",
       "  <tbody>\n",
       "    <tr>\n",
       "      <th>12</th>\n",
       "      <td>23</td>\n",
       "      <td>male</td>\n",
       "      <td>36.12000</td>\n",
       "      <td>0</td>\n",
       "      <td>no</td>\n",
       "      <td>2009.527300</td>\n",
       "    </tr>\n",
       "    <tr>\n",
       "      <th>306</th>\n",
       "      <td>28</td>\n",
       "      <td>female</td>\n",
       "      <td>28.87500</td>\n",
       "      <td>2</td>\n",
       "      <td>no</td>\n",
       "      <td>22195.438243</td>\n",
       "    </tr>\n",
       "    <tr>\n",
       "      <th>318</th>\n",
       "      <td>44</td>\n",
       "      <td>female</td>\n",
       "      <td>29.02725</td>\n",
       "      <td>0</td>\n",
       "      <td>no</td>\n",
       "      <td>8163.314005</td>\n",
       "    </tr>\n",
       "    <tr>\n",
       "      <th>815</th>\n",
       "      <td>20</td>\n",
       "      <td>female</td>\n",
       "      <td>33.03300</td>\n",
       "      <td>0</td>\n",
       "      <td>no</td>\n",
       "      <td>2065.722340</td>\n",
       "    </tr>\n",
       "    <tr>\n",
       "      <th>157</th>\n",
       "      <td>18</td>\n",
       "      <td>male</td>\n",
       "      <td>26.43375</td>\n",
       "      <td>0</td>\n",
       "      <td>yes</td>\n",
       "      <td>17069.998275</td>\n",
       "    </tr>\n",
       "  </tbody>\n",
       "</table>\n",
       "</div>\n",
       "      <button class=\"colab-df-convert\" onclick=\"convertToInteractive('df-01df662b-3e96-4403-ba50-ae91b499e614')\"\n",
       "              title=\"Convert this dataframe to an interactive table.\"\n",
       "              style=\"display:none;\">\n",
       "        \n",
       "  <svg xmlns=\"http://www.w3.org/2000/svg\" height=\"24px\"viewBox=\"0 0 24 24\"\n",
       "       width=\"24px\">\n",
       "    <path d=\"M0 0h24v24H0V0z\" fill=\"none\"/>\n",
       "    <path d=\"M18.56 5.44l.94 2.06.94-2.06 2.06-.94-2.06-.94-.94-2.06-.94 2.06-2.06.94zm-11 1L8.5 8.5l.94-2.06 2.06-.94-2.06-.94L8.5 2.5l-.94 2.06-2.06.94zm10 10l.94 2.06.94-2.06 2.06-.94-2.06-.94-.94-2.06-.94 2.06-2.06.94z\"/><path d=\"M17.41 7.96l-1.37-1.37c-.4-.4-.92-.59-1.43-.59-.52 0-1.04.2-1.43.59L10.3 9.45l-7.72 7.72c-.78.78-.78 2.05 0 2.83L4 21.41c.39.39.9.59 1.41.59.51 0 1.02-.2 1.41-.59l7.78-7.78 2.81-2.81c.8-.78.8-2.07 0-2.86zM5.41 20L4 18.59l7.72-7.72 1.47 1.35L5.41 20z\"/>\n",
       "  </svg>\n",
       "      </button>\n",
       "      \n",
       "  <style>\n",
       "    .colab-df-container {\n",
       "      display:flex;\n",
       "      flex-wrap:wrap;\n",
       "      gap: 12px;\n",
       "    }\n",
       "\n",
       "    .colab-df-convert {\n",
       "      background-color: #E8F0FE;\n",
       "      border: none;\n",
       "      border-radius: 50%;\n",
       "      cursor: pointer;\n",
       "      display: none;\n",
       "      fill: #1967D2;\n",
       "      height: 32px;\n",
       "      padding: 0 0 0 0;\n",
       "      width: 32px;\n",
       "    }\n",
       "\n",
       "    .colab-df-convert:hover {\n",
       "      background-color: #E2EBFA;\n",
       "      box-shadow: 0px 1px 2px rgba(60, 64, 67, 0.3), 0px 1px 3px 1px rgba(60, 64, 67, 0.15);\n",
       "      fill: #174EA6;\n",
       "    }\n",
       "\n",
       "    [theme=dark] .colab-df-convert {\n",
       "      background-color: #3B4455;\n",
       "      fill: #D2E3FC;\n",
       "    }\n",
       "\n",
       "    [theme=dark] .colab-df-convert:hover {\n",
       "      background-color: #434B5C;\n",
       "      box-shadow: 0px 1px 3px 1px rgba(0, 0, 0, 0.15);\n",
       "      filter: drop-shadow(0px 1px 2px rgba(0, 0, 0, 0.3));\n",
       "      fill: #FFFFFF;\n",
       "    }\n",
       "  </style>\n",
       "\n",
       "      <script>\n",
       "        const buttonEl =\n",
       "          document.querySelector('#df-01df662b-3e96-4403-ba50-ae91b499e614 button.colab-df-convert');\n",
       "        buttonEl.style.display =\n",
       "          google.colab.kernel.accessAllowed ? 'block' : 'none';\n",
       "\n",
       "        async function convertToInteractive(key) {\n",
       "          const element = document.querySelector('#df-01df662b-3e96-4403-ba50-ae91b499e614');\n",
       "          const dataTable =\n",
       "            await google.colab.kernel.invokeFunction('convertToInteractive',\n",
       "                                                     [key], {});\n",
       "          if (!dataTable) return;\n",
       "\n",
       "          const docLinkHtml = 'Like what you see? Visit the ' +\n",
       "            '<a target=\"_blank\" href=https://colab.research.google.com/notebooks/data_table.ipynb>data table notebook</a>'\n",
       "            + ' to learn more about interactive tables.';\n",
       "          element.innerHTML = '';\n",
       "          dataTable['output_type'] = 'display_data';\n",
       "          await google.colab.output.renderOutput(dataTable, element);\n",
       "          const docLink = document.createElement('div');\n",
       "          docLink.innerHTML = docLinkHtml;\n",
       "          element.appendChild(docLink);\n",
       "        }\n",
       "      </script>\n",
       "    </div>\n",
       "  </div>\n",
       "  "
      ],
      "text/plain": [
       "     age     sex       bmi  children smoker       charges\n",
       "12    23    male  36.12000         0     no   2009.527300\n",
       "306   28  female  28.87500         2     no  22195.438243\n",
       "318   44  female  29.02725         0     no   8163.314005\n",
       "815   20  female  33.03300         0     no   2065.722340\n",
       "157   18    male  26.43375         0    yes  17069.998275"
      ]
     },
     "execution_count": 9,
     "metadata": {},
     "output_type": "execute_result"
    }
   ],
   "source": [
    "dataframe = customize_dataset(dataframe_raw, your_name)\n",
    "dataframe.head()"
   ]
  },
  {
   "cell_type": "markdown",
   "metadata": {
    "id": "-88px5IQBnql"
   },
   "source": [
    "Let us answer some basic questions about the dataset. \n",
    "\n",
    "\n",
    "**Q1: How many rows does the dataset have?**"
   ]
  },
  {
   "cell_type": "code",
   "execution_count": 10,
   "metadata": {
    "colab": {
     "base_uri": "https://localhost:8080/"
    },
    "executionInfo": {
     "elapsed": 58,
     "status": "ok",
     "timestamp": 1674146718945,
     "user": {
      "displayName": "Din Mohammad Dohan",
      "userId": "06140535210708391819"
     },
     "user_tz": -360
    },
    "id": "AMiJbD1eBnql",
    "outputId": "13ba0fd0-a6c7-4707-e5d2-80794aa3ba4b"
   },
   "outputs": [
    {
     "name": "stdout",
     "output_type": "stream",
     "text": [
      "1271\n"
     ]
    }
   ],
   "source": [
    "num_rows = len(dataframe)\n",
    "print(num_rows)"
   ]
  },
  {
   "cell_type": "markdown",
   "metadata": {
    "id": "eEASYCo0Bnql"
   },
   "source": [
    "**Q2: How many columns does the dataset have**"
   ]
  },
  {
   "cell_type": "code",
   "execution_count": 11,
   "metadata": {
    "colab": {
     "base_uri": "https://localhost:8080/"
    },
    "executionInfo": {
     "elapsed": 55,
     "status": "ok",
     "timestamp": 1674146718947,
     "user": {
      "displayName": "Din Mohammad Dohan",
      "userId": "06140535210708391819"
     },
     "user_tz": -360
    },
    "id": "LkpVtb3wBnqm",
    "outputId": "a1bde991-d5b2-4062-9046-f6bc7fe7cca1"
   },
   "outputs": [
    {
     "name": "stdout",
     "output_type": "stream",
     "text": [
      "6\n"
     ]
    }
   ],
   "source": [
    "num_cols = len(dataframe.columns)\n",
    "print(num_cols)"
   ]
  },
  {
   "cell_type": "markdown",
   "metadata": {
    "id": "HOv_Na7hBnqm"
   },
   "source": [
    "**Q3: What are the column titles of the input variables?**"
   ]
  },
  {
   "cell_type": "code",
   "execution_count": 12,
   "metadata": {
    "colab": {
     "base_uri": "https://localhost:8080/"
    },
    "executionInfo": {
     "elapsed": 51,
     "status": "ok",
     "timestamp": 1674146718948,
     "user": {
      "displayName": "Din Mohammad Dohan",
      "userId": "06140535210708391819"
     },
     "user_tz": -360
    },
    "id": "2YK3jSlQBnqm",
    "outputId": "81320e62-5c1d-4778-c43a-260ce29011fa"
   },
   "outputs": [
    {
     "data": {
      "text/plain": [
       "Index(['age', 'sex', 'bmi', 'children', 'smoker'], dtype='object')"
      ]
     },
     "execution_count": 12,
     "metadata": {},
     "output_type": "execute_result"
    }
   ],
   "source": [
    "input_cols = dataframe.drop('charges',axis=1).columns\n",
    "input_cols"
   ]
  },
  {
   "cell_type": "markdown",
   "metadata": {
    "id": "-riIu3diBnqn"
   },
   "source": [
    "**Q4: Which of the input columns are non-numeric or categorial variables ?**\n",
    "\n",
    "Hint: `sex` is one of them. List the columns that are not numbers."
   ]
  },
  {
   "cell_type": "code",
   "execution_count": 13,
   "metadata": {
    "colab": {
     "base_uri": "https://localhost:8080/"
    },
    "executionInfo": {
     "elapsed": 47,
     "status": "ok",
     "timestamp": 1674146718949,
     "user": {
      "displayName": "Din Mohammad Dohan",
      "userId": "06140535210708391819"
     },
     "user_tz": -360
    },
    "id": "iaA-5EcJBnqn",
    "outputId": "6e90e124-bf58-4fe7-c293-5e5ebd8f8ca8"
   },
   "outputs": [
    {
     "data": {
      "text/plain": [
       "['sex', 'smoker']"
      ]
     },
     "execution_count": 13,
     "metadata": {},
     "output_type": "execute_result"
    }
   ],
   "source": [
    "categorical_cols = [x for x in dataframe.columns if type (dataframe[x][1])==str]\n",
    "categorical_cols"
   ]
  },
  {
   "cell_type": "markdown",
   "metadata": {
    "id": "BbqFzd3fBnqn"
   },
   "source": [
    "**Q5: What are the column titles of output/target variable(s)?**"
   ]
  },
  {
   "cell_type": "code",
   "execution_count": 14,
   "metadata": {
    "colab": {
     "base_uri": "https://localhost:8080/"
    },
    "executionInfo": {
     "elapsed": 41,
     "status": "ok",
     "timestamp": 1674146718950,
     "user": {
      "displayName": "Din Mohammad Dohan",
      "userId": "06140535210708391819"
     },
     "user_tz": -360
    },
    "id": "01jpOcHaBnqn",
    "outputId": "72fbbd8b-1089-407b-d93a-71331fdc41bb"
   },
   "outputs": [
    {
     "data": {
      "text/plain": [
       "['charges']"
      ]
     },
     "execution_count": 14,
     "metadata": {},
     "output_type": "execute_result"
    }
   ],
   "source": [
    "output_cols = [dataframe['charges'].name]\n",
    "output_cols"
   ]
  },
  {
   "cell_type": "markdown",
   "metadata": {
    "id": "gVEeG5h4Bnqo"
   },
   "source": [
    "**Q: (Optional) What is the minimum, maximum and average value of the `charges` column? Can you show the distribution of values in a graph?**\n",
    "Use this data visualization cheatsheet for referece: https://jovian.ai/aakashns/dataviz-cheatsheet"
   ]
  },
  {
   "cell_type": "code",
   "execution_count": 15,
   "metadata": {
    "colab": {
     "base_uri": "https://localhost:8080/",
     "height": 300
    },
    "executionInfo": {
     "elapsed": 37,
     "status": "ok",
     "timestamp": 1674146718951,
     "user": {
      "displayName": "Din Mohammad Dohan",
      "userId": "06140535210708391819"
     },
     "user_tz": -360
    },
    "id": "ftpcFiGjKVVB",
    "outputId": "b08b4e81-d826-4510-f884-8fef5a2d2acd"
   },
   "outputs": [
    {
     "data": {
      "text/html": [
       "\n",
       "  <div id=\"df-55f1f009-1b0f-459f-a6d4-60b14d0d58be\">\n",
       "    <div class=\"colab-df-container\">\n",
       "      <div>\n",
       "<style scoped>\n",
       "    .dataframe tbody tr th:only-of-type {\n",
       "        vertical-align: middle;\n",
       "    }\n",
       "\n",
       "    .dataframe tbody tr th {\n",
       "        vertical-align: top;\n",
       "    }\n",
       "\n",
       "    .dataframe thead th {\n",
       "        text-align: right;\n",
       "    }\n",
       "</style>\n",
       "<table border=\"1\" class=\"dataframe\">\n",
       "  <thead>\n",
       "    <tr style=\"text-align: right;\">\n",
       "      <th></th>\n",
       "      <th>age</th>\n",
       "      <th>bmi</th>\n",
       "      <th>children</th>\n",
       "      <th>charges</th>\n",
       "    </tr>\n",
       "  </thead>\n",
       "  <tbody>\n",
       "    <tr>\n",
       "      <th>count</th>\n",
       "      <td>1015.000000</td>\n",
       "      <td>1015.000000</td>\n",
       "      <td>1015.000000</td>\n",
       "      <td>1015.000000</td>\n",
       "    </tr>\n",
       "    <tr>\n",
       "      <th>mean</th>\n",
       "      <td>39.138916</td>\n",
       "      <td>32.215190</td>\n",
       "      <td>1.105419</td>\n",
       "      <td>14472.627722</td>\n",
       "    </tr>\n",
       "    <tr>\n",
       "      <th>std</th>\n",
       "      <td>14.063165</td>\n",
       "      <td>6.421124</td>\n",
       "      <td>1.201462</td>\n",
       "      <td>13256.038228</td>\n",
       "    </tr>\n",
       "    <tr>\n",
       "      <th>min</th>\n",
       "      <td>18.000000</td>\n",
       "      <td>17.655750</td>\n",
       "      <td>0.000000</td>\n",
       "      <td>1234.061290</td>\n",
       "    </tr>\n",
       "    <tr>\n",
       "      <th>25%</th>\n",
       "      <td>26.000000</td>\n",
       "      <td>27.630750</td>\n",
       "      <td>0.000000</td>\n",
       "      <td>5095.661395</td>\n",
       "    </tr>\n",
       "    <tr>\n",
       "      <th>50%</th>\n",
       "      <td>39.000000</td>\n",
       "      <td>31.878000</td>\n",
       "      <td>1.000000</td>\n",
       "      <td>10144.642860</td>\n",
       "    </tr>\n",
       "    <tr>\n",
       "      <th>75%</th>\n",
       "      <td>51.000000</td>\n",
       "      <td>36.540000</td>\n",
       "      <td>2.000000</td>\n",
       "      <td>18284.318338</td>\n",
       "    </tr>\n",
       "    <tr>\n",
       "      <th>max</th>\n",
       "      <td>64.000000</td>\n",
       "      <td>55.786500</td>\n",
       "      <td>5.000000</td>\n",
       "      <td>70147.470811</td>\n",
       "    </tr>\n",
       "  </tbody>\n",
       "</table>\n",
       "</div>\n",
       "      <button class=\"colab-df-convert\" onclick=\"convertToInteractive('df-55f1f009-1b0f-459f-a6d4-60b14d0d58be')\"\n",
       "              title=\"Convert this dataframe to an interactive table.\"\n",
       "              style=\"display:none;\">\n",
       "        \n",
       "  <svg xmlns=\"http://www.w3.org/2000/svg\" height=\"24px\"viewBox=\"0 0 24 24\"\n",
       "       width=\"24px\">\n",
       "    <path d=\"M0 0h24v24H0V0z\" fill=\"none\"/>\n",
       "    <path d=\"M18.56 5.44l.94 2.06.94-2.06 2.06-.94-2.06-.94-.94-2.06-.94 2.06-2.06.94zm-11 1L8.5 8.5l.94-2.06 2.06-.94-2.06-.94L8.5 2.5l-.94 2.06-2.06.94zm10 10l.94 2.06.94-2.06 2.06-.94-2.06-.94-.94-2.06-.94 2.06-2.06.94z\"/><path d=\"M17.41 7.96l-1.37-1.37c-.4-.4-.92-.59-1.43-.59-.52 0-1.04.2-1.43.59L10.3 9.45l-7.72 7.72c-.78.78-.78 2.05 0 2.83L4 21.41c.39.39.9.59 1.41.59.51 0 1.02-.2 1.41-.59l7.78-7.78 2.81-2.81c.8-.78.8-2.07 0-2.86zM5.41 20L4 18.59l7.72-7.72 1.47 1.35L5.41 20z\"/>\n",
       "  </svg>\n",
       "      </button>\n",
       "      \n",
       "  <style>\n",
       "    .colab-df-container {\n",
       "      display:flex;\n",
       "      flex-wrap:wrap;\n",
       "      gap: 12px;\n",
       "    }\n",
       "\n",
       "    .colab-df-convert {\n",
       "      background-color: #E8F0FE;\n",
       "      border: none;\n",
       "      border-radius: 50%;\n",
       "      cursor: pointer;\n",
       "      display: none;\n",
       "      fill: #1967D2;\n",
       "      height: 32px;\n",
       "      padding: 0 0 0 0;\n",
       "      width: 32px;\n",
       "    }\n",
       "\n",
       "    .colab-df-convert:hover {\n",
       "      background-color: #E2EBFA;\n",
       "      box-shadow: 0px 1px 2px rgba(60, 64, 67, 0.3), 0px 1px 3px 1px rgba(60, 64, 67, 0.15);\n",
       "      fill: #174EA6;\n",
       "    }\n",
       "\n",
       "    [theme=dark] .colab-df-convert {\n",
       "      background-color: #3B4455;\n",
       "      fill: #D2E3FC;\n",
       "    }\n",
       "\n",
       "    [theme=dark] .colab-df-convert:hover {\n",
       "      background-color: #434B5C;\n",
       "      box-shadow: 0px 1px 3px 1px rgba(0, 0, 0, 0.15);\n",
       "      filter: drop-shadow(0px 1px 2px rgba(0, 0, 0, 0.3));\n",
       "      fill: #FFFFFF;\n",
       "    }\n",
       "  </style>\n",
       "\n",
       "      <script>\n",
       "        const buttonEl =\n",
       "          document.querySelector('#df-55f1f009-1b0f-459f-a6d4-60b14d0d58be button.colab-df-convert');\n",
       "        buttonEl.style.display =\n",
       "          google.colab.kernel.accessAllowed ? 'block' : 'none';\n",
       "\n",
       "        async function convertToInteractive(key) {\n",
       "          const element = document.querySelector('#df-55f1f009-1b0f-459f-a6d4-60b14d0d58be');\n",
       "          const dataTable =\n",
       "            await google.colab.kernel.invokeFunction('convertToInteractive',\n",
       "                                                     [key], {});\n",
       "          if (!dataTable) return;\n",
       "\n",
       "          const docLinkHtml = 'Like what you see? Visit the ' +\n",
       "            '<a target=\"_blank\" href=https://colab.research.google.com/notebooks/data_table.ipynb>data table notebook</a>'\n",
       "            + ' to learn more about interactive tables.';\n",
       "          element.innerHTML = '';\n",
       "          dataTable['output_type'] = 'display_data';\n",
       "          await google.colab.output.renderOutput(dataTable, element);\n",
       "          const docLink = document.createElement('div');\n",
       "          docLink.innerHTML = docLinkHtml;\n",
       "          element.appendChild(docLink);\n",
       "        }\n",
       "      </script>\n",
       "    </div>\n",
       "  </div>\n",
       "  "
      ],
      "text/plain": [
       "               age          bmi     children       charges\n",
       "count  1015.000000  1015.000000  1015.000000   1015.000000\n",
       "mean     39.138916    32.215190     1.105419  14472.627722\n",
       "std      14.063165     6.421124     1.201462  13256.038228\n",
       "min      18.000000    17.655750     0.000000   1234.061290\n",
       "25%      26.000000    27.630750     0.000000   5095.661395\n",
       "50%      39.000000    31.878000     1.000000  10144.642860\n",
       "75%      51.000000    36.540000     2.000000  18284.318338\n",
       "max      64.000000    55.786500     5.000000  70147.470811"
      ]
     },
     "execution_count": 15,
     "metadata": {},
     "output_type": "execute_result"
    }
   ],
   "source": [
    "dataframe.loc[4:].describe()"
   ]
  },
  {
   "cell_type": "code",
   "execution_count": 16,
   "metadata": {
    "colab": {
     "base_uri": "https://localhost:8080/"
    },
    "executionInfo": {
     "elapsed": 36,
     "status": "ok",
     "timestamp": 1674146718952,
     "user": {
      "displayName": "Din Mohammad Dohan",
      "userId": "06140535210708391819"
     },
     "user_tz": -360
    },
    "id": "9UXcoOkMBnqo",
    "outputId": "bca23c3f-86bc-4c7f-90da-995441b5a69a"
   },
   "outputs": [
    {
     "data": {
      "text/plain": [
       "1234.06129"
      ]
     },
     "execution_count": 16,
     "metadata": {},
     "output_type": "execute_result"
    }
   ],
   "source": [
    "min_charges= dataframe.charges.min()\n",
    "min_charges"
   ]
  },
  {
   "cell_type": "markdown",
   "metadata": {
    "id": "0gdwH6Q7Bnqo"
   },
   "source": [
    "Remember to commit your notebook to Jovian after every step, so that you don't lose your work."
   ]
  },
  {
   "cell_type": "code",
   "execution_count": 17,
   "metadata": {
    "colab": {
     "base_uri": "https://localhost:8080/"
    },
    "executionInfo": {
     "elapsed": 30,
     "status": "ok",
     "timestamp": 1674146718952,
     "user": {
      "displayName": "Din Mohammad Dohan",
      "userId": "06140535210708391819"
     },
     "user_tz": -360
    },
    "id": "YFB81oENKVFu",
    "outputId": "dbb64447-afb9-4598-b48e-8d71aee0c381"
   },
   "outputs": [
    {
     "data": {
      "text/plain": [
       "70147.470811"
      ]
     },
     "execution_count": 17,
     "metadata": {},
     "output_type": "execute_result"
    }
   ],
   "source": [
    "max_charges= dataframe.charges.max()\n",
    "max_charges"
   ]
  },
  {
   "cell_type": "code",
   "execution_count": 18,
   "metadata": {
    "colab": {
     "base_uri": "https://localhost:8080/"
    },
    "executionInfo": {
     "elapsed": 27,
     "status": "ok",
     "timestamp": 1674146718953,
     "user": {
      "displayName": "Din Mohammad Dohan",
      "userId": "06140535210708391819"
     },
     "user_tz": -360
    },
    "id": "FBadODz_KU9q",
    "outputId": "acbad3ab-9173-474a-8d6b-a3714af29569"
   },
   "outputs": [
    {
     "data": {
      "text/plain": [
       "14689.425115448388"
      ]
     },
     "execution_count": 18,
     "metadata": {},
     "output_type": "execute_result"
    }
   ],
   "source": [
    "avg_charges= dataframe.charges.mean()\n",
    "avg_charges"
   ]
  },
  {
   "cell_type": "code",
   "execution_count": 19,
   "metadata": {
    "executionInfo": {
     "elapsed": 4531,
     "status": "ok",
     "timestamp": 1674146723463,
     "user": {
      "displayName": "Din Mohammad Dohan",
      "userId": "06140535210708391819"
     },
     "user_tz": -360
    },
    "id": "LvzM-omLBnqo"
   },
   "outputs": [],
   "source": [
    "!pip install jovian --upgrade -q"
   ]
  },
  {
   "cell_type": "code",
   "execution_count": 20,
   "metadata": {
    "executionInfo": {
     "elapsed": 50,
     "status": "ok",
     "timestamp": 1674146723464,
     "user": {
      "displayName": "Din Mohammad Dohan",
      "userId": "06140535210708391819"
     },
     "user_tz": -360
    },
    "id": "wAlQPAAcBnqp"
   },
   "outputs": [],
   "source": [
    "import jovian"
   ]
  },
  {
   "cell_type": "code",
   "execution_count": 21,
   "metadata": {
    "colab": {
     "base_uri": "https://localhost:8080/"
    },
    "executionInfo": {
     "elapsed": 48,
     "status": "ok",
     "timestamp": 1674146723464,
     "user": {
      "displayName": "Din Mohammad Dohan",
      "userId": "06140535210708391819"
     },
     "user_tz": -360
    },
    "id": "Bs1Q4N-CBnqp",
    "outputId": "1c732b91-0da4-4e98-9896-0ad095540451"
   },
   "outputs": [
    {
     "name": "stdout",
     "output_type": "stream",
     "text": [
      "[jovian] Detected Colab notebook...\u001b[0m\n",
      "[jovian] jovian.commit() is no longer required on Google Colab. If you ran this notebook from Jovian, \n",
      "then just save this file in Colab using Ctrl+S/Cmd+S and it will be updated on Jovian. \n",
      "Also, you can also delete this cell, it's no longer necessary.\u001b[0m\n"
     ]
    }
   ],
   "source": [
    "jovian.commit()"
   ]
  },
  {
   "cell_type": "markdown",
   "metadata": {
    "id": "LebZwAw9Bnqp"
   },
   "source": [
    "## Step 2: Prepare the dataset for training\n",
    "\n",
    "We need to convert the data from the Pandas dataframe into a PyTorch tensors for training. To do this, the first step is to convert it numpy arrays. If you've filled out `input_cols`, `categorial_cols` and `output_cols` correctly, this following function will perform the conversion to numpy arrays."
   ]
  },
  {
   "cell_type": "code",
   "execution_count": 22,
   "metadata": {
    "executionInfo": {
     "elapsed": 42,
     "status": "ok",
     "timestamp": 1674146723465,
     "user": {
      "displayName": "Din Mohammad Dohan",
      "userId": "06140535210708391819"
     },
     "user_tz": -360
    },
    "id": "PrdCS1QrBnqp"
   },
   "outputs": [],
   "source": [
    "def dataframe_to_arrays(dataframe):\n",
    "\n",
    "    # Make a copy of the original dataframe\n",
    "    dataframe1 = dataframe.copy(deep=True)\n",
    "\n",
    "    # Convert non-numeric categorical columns to numbers\n",
    "    for col in categorical_cols:\n",
    "        dataframe1[col] = dataframe1[col].astype('category').cat.codes\n",
    "        \n",
    "    # Extract input & outupts as numpy arrays\n",
    "    inputs_array = dataframe1[input_cols].to_numpy()\n",
    "    targets_array = dataframe1[output_cols].to_numpy()\n",
    "    return inputs_array, targets_array"
   ]
  },
  {
   "cell_type": "markdown",
   "metadata": {
    "id": "JP9xj28CBnqq"
   },
   "source": [
    "Read through the [Pandas documentation](https://pandas.pydata.org/pandas-docs/stable/user_guide/categorical.html) to understand how we're converting categorical variables into numbers."
   ]
  },
  {
   "cell_type": "code",
   "execution_count": 23,
   "metadata": {
    "colab": {
     "base_uri": "https://localhost:8080/"
    },
    "executionInfo": {
     "elapsed": 41,
     "status": "ok",
     "timestamp": 1674146723465,
     "user": {
      "displayName": "Din Mohammad Dohan",
      "userId": "06140535210708391819"
     },
     "user_tz": -360
    },
    "id": "qTT7THfpBnqq",
    "outputId": "b5cf65dd-9a97-420c-9d29-d278a40a7d4a"
   },
   "outputs": [
    {
     "data": {
      "text/plain": [
       "(array([[23.     ,  1.     , 36.12   ,  0.     ,  0.     ],\n",
       "        [28.     ,  0.     , 28.875  ,  2.     ,  0.     ],\n",
       "        [44.     ,  0.     , 29.02725,  0.     ,  0.     ],\n",
       "        ...,\n",
       "        [35.     ,  1.     , 38.5035 ,  1.     ,  1.     ],\n",
       "        [59.     ,  0.     , 32.9175 ,  0.     ,  0.     ],\n",
       "        [62.     ,  0.     , 34.61325,  3.     ,  0.     ]]),\n",
       " array([[ 2009.5273  ],\n",
       "        [22195.438243],\n",
       "        [ 8163.314005],\n",
       "        ...,\n",
       "        [43751.70393 ],\n",
       "        [13884.39745 ],\n",
       "        [17173.412685]]))"
      ]
     },
     "execution_count": 23,
     "metadata": {},
     "output_type": "execute_result"
    }
   ],
   "source": [
    "inputs_array, targets_array = dataframe_to_arrays(dataframe)\n",
    "inputs_array, targets_array"
   ]
  },
  {
   "cell_type": "markdown",
   "metadata": {
    "id": "LO2vTczMBnqq"
   },
   "source": [
    "**Q6: Convert the numpy arrays `inputs_array` and `targets_array` into PyTorch tensors. Make sure that the data type is `torch.float32`.**"
   ]
  },
  {
   "cell_type": "code",
   "execution_count": 24,
   "metadata": {
    "colab": {
     "base_uri": "https://localhost:8080/"
    },
    "executionInfo": {
     "elapsed": 39,
     "status": "ok",
     "timestamp": 1674146723466,
     "user": {
      "displayName": "Din Mohammad Dohan",
      "userId": "06140535210708391819"
     },
     "user_tz": -360
    },
    "id": "l9GkaJ17Bnqq",
    "outputId": "d93fce4d-43d3-45d8-9295-ccfb042d4a3d"
   },
   "outputs": [
    {
     "name": "stdout",
     "output_type": "stream",
     "text": [
      "tensor([[23.0000,  1.0000, 36.1200,  0.0000,  0.0000],\n",
      "        [28.0000,  0.0000, 28.8750,  2.0000,  0.0000],\n",
      "        [44.0000,  0.0000, 29.0273,  0.0000,  0.0000],\n",
      "        ...,\n",
      "        [35.0000,  1.0000, 38.5035,  1.0000,  1.0000],\n",
      "        [59.0000,  0.0000, 32.9175,  0.0000,  0.0000],\n",
      "        [62.0000,  0.0000, 34.6133,  3.0000,  0.0000]])\n"
     ]
    }
   ],
   "source": [
    "inputs=torch.from_numpy(inputs_array).type(torch.float32)\n",
    "print(inputs)"
   ]
  },
  {
   "cell_type": "code",
   "execution_count": 25,
   "metadata": {
    "colab": {
     "base_uri": "https://localhost:8080/"
    },
    "executionInfo": {
     "elapsed": 35,
     "status": "ok",
     "timestamp": 1674146723466,
     "user": {
      "displayName": "Din Mohammad Dohan",
      "userId": "06140535210708391819"
     },
     "user_tz": -360
    },
    "id": "vjaT-0fXTtw8",
    "outputId": "11689411-9e23-4eea-fa74-ab5a761f1528"
   },
   "outputs": [
    {
     "name": "stdout",
     "output_type": "stream",
     "text": [
      "tensor([[ 2009.5273],\n",
      "        [22195.4375],\n",
      "        [ 8163.3140],\n",
      "        ...,\n",
      "        [43751.7031],\n",
      "        [13884.3975],\n",
      "        [17173.4121]])\n"
     ]
    }
   ],
   "source": [
    "targets=torch.from_numpy(targets_array).type(torch.float32)\n",
    "print(targets)"
   ]
  },
  {
   "cell_type": "code",
   "execution_count": 26,
   "metadata": {
    "colab": {
     "base_uri": "https://localhost:8080/"
    },
    "executionInfo": {
     "elapsed": 33,
     "status": "ok",
     "timestamp": 1674146723467,
     "user": {
      "displayName": "Din Mohammad Dohan",
      "userId": "06140535210708391819"
     },
     "user_tz": -360
    },
    "id": "wyJkgyGBBnqr",
    "outputId": "aad5ccbc-b987-4c08-cda2-928bdf3ae716"
   },
   "outputs": [
    {
     "data": {
      "text/plain": [
       "(torch.float32, torch.float32)"
      ]
     },
     "execution_count": 26,
     "metadata": {},
     "output_type": "execute_result"
    }
   ],
   "source": [
    "inputs.dtype, targets.dtype"
   ]
  },
  {
   "cell_type": "markdown",
   "metadata": {
    "id": "cEZUGprABnqr"
   },
   "source": [
    "Next, we need to create PyTorch datasets & data loaders for training & validation. We'll start by creating a `TensorDataset`."
   ]
  },
  {
   "cell_type": "code",
   "execution_count": 27,
   "metadata": {
    "executionInfo": {
     "elapsed": 30,
     "status": "ok",
     "timestamp": 1674146723467,
     "user": {
      "displayName": "Din Mohammad Dohan",
      "userId": "06140535210708391819"
     },
     "user_tz": -360
    },
    "id": "-o-q23kaBnqr"
   },
   "outputs": [],
   "source": [
    "dataset = TensorDataset(inputs, targets)"
   ]
  },
  {
   "cell_type": "markdown",
   "metadata": {
    "id": "cHHOJRV5Bnqr"
   },
   "source": [
    "**Q7: Pick a number between `0.1` and `0.2` to determine the fraction of data that will be used for creating the validation set. Then use `random_split` to create training & validation datasets.**"
   ]
  },
  {
   "cell_type": "code",
   "execution_count": 28,
   "metadata": {
    "executionInfo": {
     "elapsed": 31,
     "status": "ok",
     "timestamp": 1674146723468,
     "user": {
      "displayName": "Din Mohammad Dohan",
      "userId": "06140535210708391819"
     },
     "user_tz": -360
    },
    "id": "rdnT0jqRBnqs"
   },
   "outputs": [],
   "source": [
    "val_percent = 0.15 # between 0.1 and 0.2\n",
    "val_size = int(num_rows * val_percent)\n",
    "train_size = num_rows - val_size\n",
    "\n",
    "\n",
    "train_ds, val_ds = random_split(dataset,[train_size,val_size]) # Using the random_split function to split dataset into 2 parts of the desired length"
   ]
  },
  {
   "cell_type": "markdown",
   "metadata": {
    "id": "tJpKE977Bnqs"
   },
   "source": [
    "Finally, we can create data loaders for training & validation.\n",
    "\n",
    "**Q8: Pick a batch size for the data loader.**"
   ]
  },
  {
   "cell_type": "code",
   "execution_count": 29,
   "metadata": {
    "executionInfo": {
     "elapsed": 30,
     "status": "ok",
     "timestamp": 1674146723468,
     "user": {
      "displayName": "Din Mohammad Dohan",
      "userId": "06140535210708391819"
     },
     "user_tz": -360
    },
    "id": "A6F3ke-hBnqs"
   },
   "outputs": [],
   "source": [
    "batch_size = 32"
   ]
  },
  {
   "cell_type": "code",
   "execution_count": 30,
   "metadata": {
    "executionInfo": {
     "elapsed": 31,
     "status": "ok",
     "timestamp": 1674146723469,
     "user": {
      "displayName": "Din Mohammad Dohan",
      "userId": "06140535210708391819"
     },
     "user_tz": -360
    },
    "id": "EHxUfxMzBnqs"
   },
   "outputs": [],
   "source": [
    "train_loader = DataLoader(train_ds, batch_size, shuffle=True)\n",
    "val_loader = DataLoader(val_ds, batch_size)"
   ]
  },
  {
   "cell_type": "markdown",
   "metadata": {
    "id": "ry9TbulqBnqs"
   },
   "source": [
    "Let's look at a batch of data to verify everything is working fine so far."
   ]
  },
  {
   "cell_type": "code",
   "execution_count": 31,
   "metadata": {
    "colab": {
     "base_uri": "https://localhost:8080/"
    },
    "executionInfo": {
     "elapsed": 30,
     "status": "ok",
     "timestamp": 1674146723469,
     "user": {
      "displayName": "Din Mohammad Dohan",
      "userId": "06140535210708391819"
     },
     "user_tz": -360
    },
    "id": "kxn2d5drBnqt",
    "outputId": "870df556-fc94-48be-8968-abdd21310515"
   },
   "outputs": [
    {
     "name": "stdout",
     "output_type": "stream",
     "text": [
      "inputs: tensor([[19.0000,  0.0000, 34.1145,  0.0000,  1.0000],\n",
      "        [28.0000,  0.0000, 18.1545,  0.0000,  0.0000],\n",
      "        [48.0000,  0.0000, 33.8415,  1.0000,  0.0000],\n",
      "        [59.0000,  1.0000, 31.1850,  2.0000,  0.0000],\n",
      "        [23.0000,  0.0000, 29.5260,  0.0000,  0.0000],\n",
      "        [44.0000,  0.0000, 40.8975,  0.0000,  1.0000],\n",
      "        [22.0000,  1.0000, 38.9235,  2.0000,  1.0000],\n",
      "        [55.0000,  0.0000, 31.3215,  0.0000,  0.0000],\n",
      "        [48.0000,  1.0000, 36.0150,  3.0000,  0.0000],\n",
      "        [49.0000,  0.0000, 33.4950,  5.0000,  0.0000],\n",
      "        [36.0000,  1.0000, 35.0700,  2.0000,  1.0000],\n",
      "        [26.0000,  0.0000, 31.4160,  1.0000,  0.0000],\n",
      "        [60.0000,  0.0000, 28.9275,  0.0000,  0.0000],\n",
      "        [23.0000,  1.0000, 25.7355,  0.0000,  0.0000],\n",
      "        [43.0000,  1.0000, 36.7080,  1.0000,  1.0000],\n",
      "        [51.0000,  0.0000, 27.0900,  1.0000,  0.0000],\n",
      "        [58.0000,  0.0000, 38.3040,  0.0000,  0.0000],\n",
      "        [47.0000,  0.0000, 35.6107,  3.0000,  0.0000],\n",
      "        [40.0000,  1.0000, 23.8403,  2.0000,  0.0000],\n",
      "        [60.0000,  0.0000, 19.2518,  0.0000,  0.0000],\n",
      "        [64.0000,  1.0000, 27.7305,  0.0000,  0.0000],\n",
      "        [46.0000,  0.0000, 35.4113,  1.0000,  0.0000],\n",
      "        [40.0000,  1.0000, 26.3340,  0.0000,  0.0000],\n",
      "        [26.0000,  0.0000, 31.1220,  4.0000,  0.0000],\n",
      "        [19.0000,  0.0000, 34.5450,  0.0000,  0.0000],\n",
      "        [55.0000,  0.0000, 38.9550,  0.0000,  0.0000],\n",
      "        [21.0000,  1.0000, 30.4237,  0.0000,  0.0000],\n",
      "        [34.0000,  0.0000, 34.9125,  1.0000,  0.0000],\n",
      "        [63.0000,  1.0000, 32.3400,  0.0000,  0.0000],\n",
      "        [59.0000,  0.0000, 38.3460,  1.0000,  0.0000],\n",
      "        [25.0000,  1.0000, 37.4062,  0.0000,  0.0000],\n",
      "        [54.0000,  0.0000, 32.3400,  3.0000,  0.0000]])\n",
      "targets: tensor([[40588.6055],\n",
      "        [ 4105.8877],\n",
      "        [ 9758.2666],\n",
      "        [14218.4746],\n",
      "        [ 2959.1252],\n",
      "        [47281.8047],\n",
      "        [41232.8945],\n",
      "        [12415.1924],\n",
      "        [10519.3320],\n",
      "        [12708.1943],\n",
      "        [42257.0195],\n",
      "        [ 3732.2744],\n",
      "        [14538.8037],\n",
      "        [ 2635.7056],\n",
      "        [45137.6445],\n",
      "        [10847.1279],\n",
      "        [13459.4229],\n",
      "        [11126.5098],\n",
      "        [ 7890.6958],\n",
      "        [14524.7139],\n",
      "        [15834.0137],\n",
      "        [ 9706.3848],\n",
      "        [ 5957.2275],\n",
      "        [27138.8301],\n",
      "        [ 1923.6514],\n",
      "        [11785.0088],\n",
      "        [ 2096.9941],\n",
      "        [ 6154.3301],\n",
      "        [14729.6152],\n",
      "        [31116.6875],\n",
      "        [ 2787.8330],\n",
      "        [13315.8516]])\n"
     ]
    }
   ],
   "source": [
    "for xb, yb in train_loader:\n",
    "    print(\"inputs:\", xb)\n",
    "    print(\"targets:\", yb)\n",
    "    break"
   ]
  },
  {
   "cell_type": "markdown",
   "metadata": {
    "id": "g24JrQ33Bnqt"
   },
   "source": [
    "Let's save our work by committing to Jovian."
   ]
  },
  {
   "cell_type": "code",
   "execution_count": 32,
   "metadata": {
    "colab": {
     "base_uri": "https://localhost:8080/"
    },
    "executionInfo": {
     "elapsed": 28,
     "status": "ok",
     "timestamp": 1674146723470,
     "user": {
      "displayName": "Din Mohammad Dohan",
      "userId": "06140535210708391819"
     },
     "user_tz": -360
    },
    "id": "8uW_0EhFBnqt",
    "outputId": "f0e29aed-debb-45b7-9076-0a349219dc45"
   },
   "outputs": [
    {
     "name": "stdout",
     "output_type": "stream",
     "text": [
      "[jovian] Detected Colab notebook...\u001b[0m\n",
      "[jovian] jovian.commit() is no longer required on Google Colab. If you ran this notebook from Jovian, \n",
      "then just save this file in Colab using Ctrl+S/Cmd+S and it will be updated on Jovian. \n",
      "Also, you can also delete this cell, it's no longer necessary.\u001b[0m\n"
     ]
    }
   ],
   "source": [
    "jovian.commit(project=project_name, environment=None)"
   ]
  },
  {
   "cell_type": "markdown",
   "metadata": {
    "id": "5jMz1vL2Bnqt"
   },
   "source": [
    "## Step 3: Create a Linear Regression Model\n",
    "\n",
    "Our model itself is a fairly straightforward linear regression (we'll build more complex models in the next assignment). \n"
   ]
  },
  {
   "cell_type": "code",
   "execution_count": 33,
   "metadata": {
    "colab": {
     "base_uri": "https://localhost:8080/"
    },
    "executionInfo": {
     "elapsed": 24,
     "status": "ok",
     "timestamp": 1674146723470,
     "user": {
      "displayName": "Din Mohammad Dohan",
      "userId": "06140535210708391819"
     },
     "user_tz": -360
    },
    "id": "g6Y49bkZBnqt",
    "outputId": "bc3b0a79-2b35-4799-c3cc-13d15bdcbd13"
   },
   "outputs": [
    {
     "name": "stdout",
     "output_type": "stream",
     "text": [
      "5\n",
      "1\n"
     ]
    }
   ],
   "source": [
    "input_size = len(input_cols)\n",
    "output_size = len(output_cols)\n",
    "print(input_size)\n",
    "print(output_size)"
   ]
  },
  {
   "cell_type": "markdown",
   "metadata": {
    "id": "Af7kE8UxBnqu"
   },
   "source": [
    "**Q9: Complete the class definition below by filling out the constructor (`__init__`), `forward`, `training_step` and `validation_step` methods.**\n",
    "\n",
    "Hint: Think carefully about picking a good loss fuction (it's not cross entropy). Maybe try 2-3 of them and see which one works best. See https://pytorch.org/docs/stable/nn.functional.html#loss-functions"
   ]
  },
  {
   "cell_type": "code",
   "execution_count": 34,
   "metadata": {
    "executionInfo": {
     "elapsed": 21,
     "status": "ok",
     "timestamp": 1674146723471,
     "user": {
      "displayName": "Din Mohammad Dohan",
      "userId": "06140535210708391819"
     },
     "user_tz": -360
    },
    "id": "8boOppFOBnqu"
   },
   "outputs": [],
   "source": [
    "class InsuranceModel(nn.Module):\n",
    "    def __init__(self):\n",
    "        super().__init__()\n",
    "        self.linear =  nn.Linear(input_size,output_size)   \n",
    "        \n",
    "    def forward(self, xb):\n",
    "        out = self.linear(xb)                        \n",
    "        return out\n",
    "    \n",
    "    def training_step(self, batch):\n",
    "        inputs, targets = batch \n",
    "\n",
    "        # Generate predictions\n",
    "        out = self(inputs)     \n",
    "\n",
    "        # Calcuate loss\n",
    "        loss = F.l1_loss(out,targets)                    \n",
    "        return loss\n",
    "    \n",
    "    def validation_step(self, batch):\n",
    "        inputs, targets = batch\n",
    "\n",
    "        # Generate predictions\n",
    "        out = self(inputs)\n",
    "        \n",
    "        # Calculate loss\n",
    "        loss = loss = F.l1_loss(out,targets)                        \n",
    "        return {'val_loss': loss.detach()}\n",
    "        \n",
    "    def validation_epoch_end(self, outputs):\n",
    "        batch_losses = [x['val_loss'] for x in outputs]\n",
    "        epoch_loss = torch.stack(batch_losses).mean()   # Combine losses\n",
    "        return {'val_loss': epoch_loss.item()}\n",
    "    \n",
    "    def epoch_end(self, epoch, result, num_epochs):\n",
    "\n",
    "        # Print result every 20th epoch\n",
    "        if (epoch+1) % 20 == 0 or epoch == num_epochs-1:\n",
    "            print(\"Epoch [{}], val_loss: {:.4f}\".format(epoch+1, result['val_loss']))"
   ]
  },
  {
   "cell_type": "markdown",
   "metadata": {
    "id": "Ek60rnTgBnqu"
   },
   "source": [
    "Let us create a model using the `InsuranceModel` class. You may need to come back later and re-run the next cell to reinitialize the model, in case the loss becomes `nan` or `infinity`."
   ]
  },
  {
   "cell_type": "code",
   "execution_count": 35,
   "metadata": {
    "executionInfo": {
     "elapsed": 578,
     "status": "ok",
     "timestamp": 1674146724028,
     "user": {
      "displayName": "Din Mohammad Dohan",
      "userId": "06140535210708391819"
     },
     "user_tz": -360
    },
    "id": "Uh0CiR4DBnqv"
   },
   "outputs": [],
   "source": [
    "model = InsuranceModel()"
   ]
  },
  {
   "cell_type": "markdown",
   "metadata": {
    "id": "43IzdiKjBnqv"
   },
   "source": [
    "Let's check out the weights and biases of the model using `model.parameters`."
   ]
  },
  {
   "cell_type": "code",
   "execution_count": 36,
   "metadata": {
    "colab": {
     "base_uri": "https://localhost:8080/"
    },
    "executionInfo": {
     "elapsed": 17,
     "status": "ok",
     "timestamp": 1674146724028,
     "user": {
      "displayName": "Din Mohammad Dohan",
      "userId": "06140535210708391819"
     },
     "user_tz": -360
    },
    "id": "MwYFhICLBnqv",
    "outputId": "b0a27cf1-ed87-4de5-a5db-61f8dfb8b5c0"
   },
   "outputs": [
    {
     "data": {
      "text/plain": [
       "[Parameter containing:\n",
       " tensor([[-0.3972,  0.2023, -0.3246, -0.2981, -0.2277]], requires_grad=True),\n",
       " Parameter containing:\n",
       " tensor([-0.2886], requires_grad=True)]"
      ]
     },
     "execution_count": 36,
     "metadata": {},
     "output_type": "execute_result"
    }
   ],
   "source": [
    "list(model.parameters())"
   ]
  },
  {
   "cell_type": "markdown",
   "metadata": {
    "id": "E4MqEA1lBnqw"
   },
   "source": [
    "One final commit before we train the model."
   ]
  },
  {
   "cell_type": "code",
   "execution_count": 37,
   "metadata": {
    "colab": {
     "base_uri": "https://localhost:8080/"
    },
    "executionInfo": {
     "elapsed": 14,
     "status": "ok",
     "timestamp": 1674146724029,
     "user": {
      "displayName": "Din Mohammad Dohan",
      "userId": "06140535210708391819"
     },
     "user_tz": -360
    },
    "id": "Eu99_WjrBnqw",
    "outputId": "76fae712-aa3b-4c59-bd2a-39e393fa3f29"
   },
   "outputs": [
    {
     "name": "stdout",
     "output_type": "stream",
     "text": [
      "[jovian] Detected Colab notebook...\u001b[0m\n",
      "[jovian] jovian.commit() is no longer required on Google Colab. If you ran this notebook from Jovian, \n",
      "then just save this file in Colab using Ctrl+S/Cmd+S and it will be updated on Jovian. \n",
      "Also, you can also delete this cell, it's no longer necessary.\u001b[0m\n"
     ]
    }
   ],
   "source": [
    "jovian.commit(project=project_name, environment=None)"
   ]
  },
  {
   "cell_type": "markdown",
   "metadata": {
    "id": "Qsvt9blwBnqw"
   },
   "source": [
    "## Step 4: Train the model to fit the data\n",
    "\n",
    "To train our model, we'll use the same `fit` function explained in the lecture. That's the benefit of defining a generic training loop - you can use it for any problem."
   ]
  },
  {
   "cell_type": "code",
   "execution_count": 38,
   "metadata": {
    "executionInfo": {
     "elapsed": 10,
     "status": "ok",
     "timestamp": 1674146724029,
     "user": {
      "displayName": "Din Mohammad Dohan",
      "userId": "06140535210708391819"
     },
     "user_tz": -360
    },
    "id": "SXC5RzNrBnqw"
   },
   "outputs": [],
   "source": [
    "def evaluate(model, val_loader):\n",
    "    outputs = [model.validation_step(batch) for batch in val_loader]\n",
    "    return model.validation_epoch_end(outputs)\n",
    "\n",
    "def fit(epochs, lr, model, train_loader, val_loader, opt_func=torch.optim.SGD):\n",
    "    history = []\n",
    "    optimizer = opt_func(model.parameters(), lr)\n",
    "    for epoch in range(epochs):\n",
    "\n",
    "        # Training Phase \n",
    "        for batch in train_loader:\n",
    "            loss = model.training_step(batch)\n",
    "            loss.backward()\n",
    "            optimizer.step()\n",
    "            optimizer.zero_grad()\n",
    "\n",
    "        # Validation phase\n",
    "        result = evaluate(model, val_loader)\n",
    "        model.epoch_end(epoch, result, epochs)\n",
    "        history.append(result)\n",
    "        \n",
    "    return history"
   ]
  },
  {
   "cell_type": "markdown",
   "metadata": {
    "id": "e0Hkcbz0Bnqx"
   },
   "source": [
    "**Q10: Use the `evaluate` function to calculate the loss on the validation set before training.**"
   ]
  },
  {
   "cell_type": "code",
   "execution_count": 39,
   "metadata": {
    "colab": {
     "base_uri": "https://localhost:8080/"
    },
    "executionInfo": {
     "elapsed": 9,
     "status": "ok",
     "timestamp": 1674146724029,
     "user": {
      "displayName": "Din Mohammad Dohan",
      "userId": "06140535210708391819"
     },
     "user_tz": -360
    },
    "id": "rDmziexyBnqx",
    "outputId": "e46d2bf9-ce6a-4e1b-d177-c5cabde00f01"
   },
   "outputs": [
    {
     "name": "stdout",
     "output_type": "stream",
     "text": [
      "{'val_loss': 15109.7783203125}\n"
     ]
    }
   ],
   "source": [
    "result = evaluate(InsuranceModel(),val_loader) # Using the evaluate function\n",
    "print(result)"
   ]
  },
  {
   "cell_type": "markdown",
   "metadata": {
    "id": "HQt2OPh9Bnqx"
   },
   "source": [
    "\n",
    "We are now ready to train the model. You may need to run the training loop many times, for different number of epochs and with different learning rates, to get a good result. Also, if your loss becomes too large (or `nan`), you may have to re-initialize the model by running the cell `model = InsuranceModel()`. Experiment with this for a while, and try to get to as low a loss as possible."
   ]
  },
  {
   "cell_type": "markdown",
   "metadata": {
    "id": "kTfP3W5MBnqx"
   },
   "source": [
    "**Q11: Train the model 4-5 times with different learning rates & for different number of epochs.**\n",
    "\n",
    "Hint: Vary learning rates by orders of 10 (e.g. `1e-2`, `1e-3`, `1e-4`, `1e-5`, `1e-6`) to figure out what works."
   ]
  },
  {
   "cell_type": "code",
   "execution_count": 40,
   "metadata": {
    "colab": {
     "base_uri": "https://localhost:8080/"
    },
    "executionInfo": {
     "elapsed": 28314,
     "status": "ok",
     "timestamp": 1674146752337,
     "user": {
      "displayName": "Din Mohammad Dohan",
      "userId": "06140535210708391819"
     },
     "user_tz": -360
    },
    "id": "wckA085yuqIk",
    "outputId": "83dbc933-e6e9-416a-9673-8773a560145e"
   },
   "outputs": [
    {
     "name": "stdout",
     "output_type": "stream",
     "text": [
      "Epoch [20], val_loss: 8563.8926\n",
      "Epoch [40], val_loss: 8450.9404\n",
      "Epoch [60], val_loss: 8354.4561\n",
      "Epoch [80], val_loss: 8268.5029\n",
      "Epoch [100], val_loss: 8190.2090\n",
      "Epoch [120], val_loss: 8115.0054\n",
      "Epoch [140], val_loss: 8052.3423\n",
      "Epoch [160], val_loss: 8001.1621\n",
      "Epoch [180], val_loss: 7959.5562\n",
      "Epoch [200], val_loss: 7936.0000\n",
      "Epoch [220], val_loss: 7922.7202\n",
      "Epoch [240], val_loss: 7917.7368\n",
      "Epoch [260], val_loss: 7914.7148\n",
      "Epoch [280], val_loss: 7914.8828\n",
      "Epoch [300], val_loss: 7915.7852\n",
      "Epoch [320], val_loss: 7917.1387\n",
      "Epoch [340], val_loss: 7917.5200\n",
      "Epoch [360], val_loss: 7916.8730\n",
      "Epoch [380], val_loss: 7916.1245\n",
      "Epoch [400], val_loss: 7915.5708\n",
      "Epoch [420], val_loss: 7915.5015\n",
      "Epoch [440], val_loss: 7914.2329\n",
      "Epoch [460], val_loss: 7913.9829\n",
      "Epoch [480], val_loss: 7913.0884\n",
      "Epoch [500], val_loss: 7912.3169\n",
      "Epoch [520], val_loss: 7911.5562\n",
      "Epoch [540], val_loss: 7910.6089\n",
      "Epoch [560], val_loss: 7909.7031\n",
      "Epoch [580], val_loss: 7908.7617\n",
      "Epoch [600], val_loss: 7908.0298\n",
      "Epoch [620], val_loss: 7907.7246\n",
      "Epoch [640], val_loss: 7907.1118\n",
      "Epoch [660], val_loss: 7906.6621\n",
      "Epoch [680], val_loss: 7905.4341\n",
      "Epoch [700], val_loss: 7904.9858\n",
      "Epoch [720], val_loss: 7904.3062\n",
      "Epoch [740], val_loss: 7903.5767\n",
      "Epoch [760], val_loss: 7903.1919\n",
      "Epoch [780], val_loss: 7902.3228\n",
      "Epoch [800], val_loss: 7901.4707\n",
      "Epoch [820], val_loss: 7901.0742\n",
      "Epoch [840], val_loss: 7899.8315\n",
      "Epoch [860], val_loss: 7899.6016\n",
      "Epoch [880], val_loss: 7899.0552\n",
      "Epoch [900], val_loss: 7898.7671\n",
      "Epoch [920], val_loss: 7897.7788\n",
      "Epoch [940], val_loss: 7896.8433\n",
      "Epoch [960], val_loss: 7896.0352\n",
      "Epoch [980], val_loss: 7896.2812\n",
      "Epoch [1000], val_loss: 7894.8687\n"
     ]
    }
   ],
   "source": [
    "epochs = 1000\n",
    "lr = 1e-2\n",
    "history1 = fit(epochs, lr, model, train_loader, val_loader)"
   ]
  },
  {
   "cell_type": "code",
   "execution_count": 41,
   "metadata": {
    "colab": {
     "base_uri": "https://localhost:8080/"
    },
    "executionInfo": {
     "elapsed": 27900,
     "status": "ok",
     "timestamp": 1674146780228,
     "user": {
      "displayName": "Din Mohammad Dohan",
      "userId": "06140535210708391819"
     },
     "user_tz": -360
    },
    "id": "rzk4BPfYupwt",
    "outputId": "ad90496e-68f3-4820-8034-ed8f99c69262"
   },
   "outputs": [
    {
     "name": "stdout",
     "output_type": "stream",
     "text": [
      "Epoch [20], val_loss: 7894.8613\n",
      "Epoch [40], val_loss: 7894.8535\n",
      "Epoch [60], val_loss: 7894.8413\n",
      "Epoch [80], val_loss: 7894.8335\n",
      "Epoch [100], val_loss: 7894.8276\n",
      "Epoch [120], val_loss: 7894.8218\n",
      "Epoch [140], val_loss: 7894.8188\n",
      "Epoch [160], val_loss: 7894.8149\n",
      "Epoch [180], val_loss: 7894.8140\n",
      "Epoch [200], val_loss: 7894.8047\n",
      "Epoch [220], val_loss: 7894.8071\n",
      "Epoch [240], val_loss: 7894.8013\n",
      "Epoch [260], val_loss: 7894.7983\n",
      "Epoch [280], val_loss: 7894.7935\n",
      "Epoch [300], val_loss: 7894.7915\n",
      "Epoch [320], val_loss: 7894.7891\n",
      "Epoch [340], val_loss: 7894.7871\n",
      "Epoch [360], val_loss: 7894.7832\n",
      "Epoch [380], val_loss: 7894.7788\n",
      "Epoch [400], val_loss: 7894.7734\n",
      "Epoch [420], val_loss: 7894.7749\n",
      "Epoch [440], val_loss: 7894.7710\n",
      "Epoch [460], val_loss: 7894.7632\n",
      "Epoch [480], val_loss: 7894.7637\n",
      "Epoch [500], val_loss: 7894.7563\n",
      "Epoch [520], val_loss: 7894.7554\n",
      "Epoch [540], val_loss: 7894.7515\n",
      "Epoch [560], val_loss: 7894.7456\n",
      "Epoch [580], val_loss: 7894.7441\n",
      "Epoch [600], val_loss: 7894.7358\n",
      "Epoch [620], val_loss: 7894.7358\n",
      "Epoch [640], val_loss: 7894.7378\n",
      "Epoch [660], val_loss: 7894.7241\n",
      "Epoch [680], val_loss: 7894.7285\n",
      "Epoch [700], val_loss: 7894.7231\n",
      "Epoch [720], val_loss: 7894.7202\n",
      "Epoch [740], val_loss: 7894.7153\n",
      "Epoch [760], val_loss: 7894.7129\n",
      "Epoch [780], val_loss: 7894.7065\n",
      "Epoch [800], val_loss: 7894.7012\n",
      "Epoch [820], val_loss: 7894.6992\n",
      "Epoch [840], val_loss: 7894.6973\n",
      "Epoch [860], val_loss: 7894.6914\n",
      "Epoch [880], val_loss: 7894.6880\n",
      "Epoch [900], val_loss: 7894.6880\n",
      "Epoch [920], val_loss: 7894.6738\n",
      "Epoch [940], val_loss: 7894.6758\n",
      "Epoch [960], val_loss: 7894.6680\n",
      "Epoch [980], val_loss: 7894.6655\n",
      "Epoch [1000], val_loss: 7894.6602\n"
     ]
    }
   ],
   "source": [
    "epochs = 1000\n",
    "lr = 1e-4\n",
    "history1 = fit(epochs, lr, model, train_loader, val_loader)"
   ]
  },
  {
   "cell_type": "code",
   "execution_count": 42,
   "metadata": {
    "colab": {
     "base_uri": "https://localhost:8080/"
    },
    "executionInfo": {
     "elapsed": 20817,
     "status": "ok",
     "timestamp": 1674146801018,
     "user": {
      "displayName": "Din Mohammad Dohan",
      "userId": "06140535210708391819"
     },
     "user_tz": -360
    },
    "id": "CVXNz7dRBnqy",
    "outputId": "f74d10ad-2480-435e-a828-daba60cfbf54"
   },
   "outputs": [
    {
     "name": "stdout",
     "output_type": "stream",
     "text": [
      "Epoch [20], val_loss: 7830.8125\n",
      "Epoch [40], val_loss: 7803.2173\n",
      "Epoch [60], val_loss: 7819.8359\n",
      "Epoch [80], val_loss: 7776.7085\n",
      "Epoch [100], val_loss: 7712.6743\n",
      "Epoch [120], val_loss: 7700.1094\n",
      "Epoch [140], val_loss: 7654.1655\n",
      "Epoch [160], val_loss: 7642.3340\n",
      "Epoch [180], val_loss: 7571.9062\n",
      "Epoch [200], val_loss: 7540.7866\n",
      "Epoch [220], val_loss: 7517.7305\n",
      "Epoch [240], val_loss: 7499.1079\n",
      "Epoch [260], val_loss: 7494.8872\n",
      "Epoch [280], val_loss: 7472.4648\n",
      "Epoch [300], val_loss: 7422.7397\n",
      "Epoch [320], val_loss: 7411.7778\n",
      "Epoch [340], val_loss: 7313.3794\n",
      "Epoch [360], val_loss: 7483.3364\n",
      "Epoch [380], val_loss: 7266.6675\n",
      "Epoch [400], val_loss: 7214.1011\n",
      "Epoch [420], val_loss: 7195.3491\n",
      "Epoch [440], val_loss: 7426.7266\n",
      "Epoch [460], val_loss: 7144.6587\n",
      "Epoch [480], val_loss: 7201.5659\n",
      "Epoch [500], val_loss: 7222.9224\n",
      "Epoch [520], val_loss: 7016.7227\n",
      "Epoch [540], val_loss: 7083.2437\n",
      "Epoch [560], val_loss: 7266.8813\n",
      "Epoch [580], val_loss: 6979.4023\n",
      "Epoch [600], val_loss: 6876.4419\n",
      "Epoch [620], val_loss: 7082.2710\n",
      "Epoch [640], val_loss: 6874.2104\n",
      "Epoch [660], val_loss: 6777.9331\n",
      "Epoch [680], val_loss: 7295.3496\n",
      "Epoch [700], val_loss: 6726.6836\n",
      "Epoch [720], val_loss: 6767.9863\n",
      "Epoch [740], val_loss: 6726.0249\n",
      "Epoch [760], val_loss: 6668.6694\n",
      "Epoch [780], val_loss: 6955.6157\n",
      "Epoch [800], val_loss: 6712.6274\n",
      "Epoch [820], val_loss: 6522.9204\n",
      "Epoch [840], val_loss: 6551.2407\n",
      "Epoch [860], val_loss: 6470.3501\n",
      "Epoch [880], val_loss: 6448.3066\n",
      "Epoch [900], val_loss: 6495.7222\n",
      "Epoch [920], val_loss: 6365.5508\n",
      "Epoch [940], val_loss: 6335.6641\n",
      "Epoch [960], val_loss: 6314.3691\n",
      "Epoch [980], val_loss: 6758.0532\n",
      "Epoch [1000], val_loss: 6363.5483\n"
     ]
    }
   ],
   "source": [
    "epochs = 1000\n",
    "lr = 1.08\n",
    "history1 = fit(epochs, lr, model, train_loader, val_loader)"
   ]
  },
  {
   "cell_type": "code",
   "execution_count": 43,
   "metadata": {
    "colab": {
     "base_uri": "https://localhost:8080/"
    },
    "executionInfo": {
     "elapsed": 18792,
     "status": "ok",
     "timestamp": 1674146819804,
     "user": {
      "displayName": "Din Mohammad Dohan",
      "userId": "06140535210708391819"
     },
     "user_tz": -360
    },
    "id": "X7L-tnhaaHfE",
    "outputId": "c251a144-a446-4821-fb3e-ed70940f0d9f"
   },
   "outputs": [
    {
     "name": "stdout",
     "output_type": "stream",
     "text": [
      "Epoch [20], val_loss: 6238.0483\n",
      "Epoch [40], val_loss: 6231.5864\n",
      "Epoch [60], val_loss: 6232.1523\n",
      "Epoch [80], val_loss: 6232.7808\n",
      "Epoch [100], val_loss: 6233.1118\n",
      "Epoch [120], val_loss: 6233.1890\n",
      "Epoch [140], val_loss: 6233.2344\n",
      "Epoch [160], val_loss: 6233.2905\n",
      "Epoch [180], val_loss: 6233.2866\n",
      "Epoch [200], val_loss: 6233.3716\n",
      "Epoch [220], val_loss: 6233.4219\n",
      "Epoch [240], val_loss: 6233.4907\n",
      "Epoch [260], val_loss: 6233.5259\n",
      "Epoch [280], val_loss: 6233.5786\n",
      "Epoch [300], val_loss: 6233.6265\n",
      "Epoch [320], val_loss: 6233.6528\n",
      "Epoch [340], val_loss: 6233.7261\n",
      "Epoch [360], val_loss: 6233.7910\n",
      "Epoch [380], val_loss: 6233.8423\n",
      "Epoch [400], val_loss: 6233.9448\n",
      "Epoch [420], val_loss: 6234.0220\n",
      "Epoch [440], val_loss: 6234.0571\n",
      "Epoch [460], val_loss: 6234.1172\n",
      "Epoch [480], val_loss: 6234.1719\n",
      "Epoch [500], val_loss: 6234.1987\n",
      "Epoch [520], val_loss: 6234.2095\n",
      "Epoch [540], val_loss: 6234.2651\n",
      "Epoch [560], val_loss: 6234.3140\n",
      "Epoch [580], val_loss: 6234.4067\n",
      "Epoch [600], val_loss: 6234.4297\n",
      "Epoch [620], val_loss: 6234.5547\n",
      "Epoch [640], val_loss: 6234.5972\n",
      "Epoch [660], val_loss: 6234.6538\n",
      "Epoch [680], val_loss: 6234.7695\n",
      "Epoch [700], val_loss: 6234.8765\n",
      "Epoch [720], val_loss: 6234.9888\n",
      "Epoch [740], val_loss: 6235.0156\n",
      "Epoch [760], val_loss: 6235.0957\n",
      "Epoch [780], val_loss: 6235.0747\n",
      "Epoch [800], val_loss: 6235.1016\n",
      "Epoch [820], val_loss: 6235.0522\n",
      "Epoch [840], val_loss: 6235.0757\n",
      "Epoch [860], val_loss: 6235.0723\n",
      "Epoch [880], val_loss: 6235.0034\n",
      "Epoch [900], val_loss: 6235.0278\n"
     ]
    }
   ],
   "source": [
    "epochs = 900\n",
    "lr = 1e-3\n",
    "history1 = fit(epochs, lr, model, train_loader, val_loader)"
   ]
  },
  {
   "cell_type": "code",
   "execution_count": 44,
   "metadata": {
    "colab": {
     "base_uri": "https://localhost:8080/"
    },
    "executionInfo": {
     "elapsed": 23419,
     "status": "ok",
     "timestamp": 1674146843202,
     "user": {
      "displayName": "Din Mohammad Dohan",
      "userId": "06140535210708391819"
     },
     "user_tz": -360
    },
    "id": "TQ4xvPlzad_x",
    "outputId": "e79e9d88-51f2-4800-fb4e-bb56358da85c"
   },
   "outputs": [
    {
     "name": "stdout",
     "output_type": "stream",
     "text": [
      "Epoch [20], val_loss: 6204.2935\n",
      "Epoch [40], val_loss: 6213.3364\n",
      "Epoch [60], val_loss: 6146.9946\n",
      "Epoch [80], val_loss: 6137.5742\n",
      "Epoch [100], val_loss: 6214.1929\n",
      "Epoch [120], val_loss: 6051.9277\n",
      "Epoch [140], val_loss: 6156.1157\n",
      "Epoch [160], val_loss: 5988.8438\n",
      "Epoch [180], val_loss: 5948.2759\n",
      "Epoch [200], val_loss: 6015.1304\n",
      "Epoch [220], val_loss: 5904.1323\n",
      "Epoch [240], val_loss: 5857.1401\n",
      "Epoch [260], val_loss: 6006.0366\n",
      "Epoch [280], val_loss: 5784.8574\n",
      "Epoch [300], val_loss: 5819.2690\n",
      "Epoch [320], val_loss: 5921.7720\n",
      "Epoch [340], val_loss: 5761.1504\n",
      "Epoch [360], val_loss: 5781.4980\n",
      "Epoch [380], val_loss: 5719.6294\n",
      "Epoch [400], val_loss: 5635.1816\n",
      "Epoch [420], val_loss: 5605.7266\n",
      "Epoch [440], val_loss: 5541.6348\n",
      "Epoch [460], val_loss: 5547.7051\n",
      "Epoch [480], val_loss: 5483.8999\n",
      "Epoch [500], val_loss: 5500.3306\n",
      "Epoch [520], val_loss: 5758.3423\n",
      "Epoch [540], val_loss: 5440.3989\n",
      "Epoch [560], val_loss: 5516.8979\n",
      "Epoch [580], val_loss: 5335.9644\n",
      "Epoch [600], val_loss: 5313.4048\n",
      "Epoch [620], val_loss: 5338.3198\n",
      "Epoch [640], val_loss: 5594.9512\n",
      "Epoch [660], val_loss: 5221.8716\n",
      "Epoch [680], val_loss: 5199.7026\n",
      "Epoch [700], val_loss: 5216.7104\n",
      "Epoch [720], val_loss: 5161.6929\n",
      "Epoch [740], val_loss: 5124.5269\n",
      "Epoch [760], val_loss: 5318.3677\n",
      "Epoch [780], val_loss: 5178.5073\n",
      "Epoch [800], val_loss: 5088.8066\n"
     ]
    }
   ],
   "source": [
    "epochs = 800\n",
    "lr = 1.08\n",
    "history1 = fit(epochs, lr, model, train_loader, val_loader)"
   ]
  },
  {
   "cell_type": "markdown",
   "metadata": {
    "id": "aBPeZIU3Bnq0"
   },
   "source": [
    "**Q12: What is the final validation loss of your model?**"
   ]
  },
  {
   "cell_type": "code",
   "execution_count": 57,
   "metadata": {
    "executionInfo": {
     "elapsed": 550,
     "status": "ok",
     "timestamp": 1674146882903,
     "user": {
      "displayName": "Din Mohammad Dohan",
      "userId": "06140535210708391819"
     },
     "user_tz": -360
    },
    "id": "wUCnLG3EBnq0"
   },
   "outputs": [],
   "source": [
    "val_loss = 5088.8066"
   ]
  },
  {
   "cell_type": "markdown",
   "metadata": {
    "id": "Bhz_5EAEBnq1"
   },
   "source": [
    "Let's log the final validation loss to Jovian and commit the notebook"
   ]
  },
  {
   "cell_type": "code",
   "execution_count": 58,
   "metadata": {
    "colab": {
     "base_uri": "https://localhost:8080/"
    },
    "executionInfo": {
     "elapsed": 475,
     "status": "ok",
     "timestamp": 1674146885694,
     "user": {
      "displayName": "Din Mohammad Dohan",
      "userId": "06140535210708391819"
     },
     "user_tz": -360
    },
    "id": "xgCwNie-Bnq1",
    "outputId": "4aa97d19-6719-47bd-ff79-a8efebdedec1"
   },
   "outputs": [
    {
     "name": "stdout",
     "output_type": "stream",
     "text": [
      "[jovian] Metrics logged.\u001b[0m\n"
     ]
    }
   ],
   "source": [
    "jovian.log_metrics(val_loss=val_loss)"
   ]
  },
  {
   "cell_type": "code",
   "execution_count": 59,
   "metadata": {
    "colab": {
     "base_uri": "https://localhost:8080/"
    },
    "executionInfo": {
     "elapsed": 406,
     "status": "ok",
     "timestamp": 1674146889913,
     "user": {
      "displayName": "Din Mohammad Dohan",
      "userId": "06140535210708391819"
     },
     "user_tz": -360
    },
    "id": "eqkPyw7pBnq1",
    "outputId": "e9ae6beb-34b9-4128-9501-216bee116d1e"
   },
   "outputs": [
    {
     "name": "stdout",
     "output_type": "stream",
     "text": [
      "[jovian] Detected Colab notebook...\u001b[0m\n",
      "[jovian] jovian.commit() is no longer required on Google Colab. If you ran this notebook from Jovian, \n",
      "then just save this file in Colab using Ctrl+S/Cmd+S and it will be updated on Jovian. \n",
      "Also, you can also delete this cell, it's no longer necessary.\u001b[0m\n"
     ]
    }
   ],
   "source": [
    "jovian.commit(project=project_name, environment=None)"
   ]
  },
  {
   "cell_type": "markdown",
   "metadata": {
    "id": "xuk5n6HdBnq1"
   },
   "source": [
    "Now scroll back up, re-initialize the model, and try different set of values for batch size, number of epochs, learning rate etc. Commit each experiment and use the \"Compare\" and \"View Diff\" options on Jovian to compare the different results."
   ]
  },
  {
   "cell_type": "markdown",
   "metadata": {
    "id": "f1FWNWFNBnq2"
   },
   "source": [
    "## Step 5: Make predictions using the trained model\n",
    "\n",
    "**Q13: Complete the following function definition to make predictions on a single input**"
   ]
  },
  {
   "cell_type": "code",
   "execution_count": 60,
   "metadata": {
    "executionInfo": {
     "elapsed": 391,
     "status": "ok",
     "timestamp": 1674146904555,
     "user": {
      "displayName": "Din Mohammad Dohan",
      "userId": "06140535210708391819"
     },
     "user_tz": -360
    },
    "id": "PPYuQ_GXBnq2"
   },
   "outputs": [],
   "source": [
    "def predict_single(input, target, model):\n",
    "    inputs = input.unsqueeze(0)\n",
    "    predictions = model(inputs)             \n",
    "    prediction = predictions[0].detach()\n",
    "    print(\"Input:\", input)\n",
    "    print(\"Target:\", target)\n",
    "    print(\"Prediction:\", prediction)"
   ]
  },
  {
   "cell_type": "code",
   "execution_count": 61,
   "metadata": {
    "colab": {
     "base_uri": "https://localhost:8080/"
    },
    "executionInfo": {
     "elapsed": 402,
     "status": "ok",
     "timestamp": 1674146909234,
     "user": {
      "displayName": "Din Mohammad Dohan",
      "userId": "06140535210708391819"
     },
     "user_tz": -360
    },
    "id": "ubbzWDuXBnq2",
    "outputId": "b348d905-cec7-4384-811c-b4ed9be12d3d"
   },
   "outputs": [
    {
     "name": "stdout",
     "output_type": "stream",
     "text": [
      "Input: tensor([32.0000,  0.0000, 18.6532,  2.0000,  1.0000])\n",
      "Target: tensor([36007.6055])\n",
      "Prediction: tensor([20467.1191])\n"
     ]
    }
   ],
   "source": [
    "input, target = val_ds[0]\n",
    "predict_single(input, target, model)"
   ]
  },
  {
   "cell_type": "code",
   "execution_count": 62,
   "metadata": {
    "colab": {
     "base_uri": "https://localhost:8080/"
    },
    "executionInfo": {
     "elapsed": 413,
     "status": "ok",
     "timestamp": 1674146912841,
     "user": {
      "displayName": "Din Mohammad Dohan",
      "userId": "06140535210708391819"
     },
     "user_tz": -360
    },
    "id": "dlk0oBj-Bnq3",
    "outputId": "009f889a-46b0-4e57-8acb-1f601dd45768"
   },
   "outputs": [
    {
     "name": "stdout",
     "output_type": "stream",
     "text": [
      "Input: tensor([49.0000,  1.0000, 30.1245,  3.0000,  0.0000])\n",
      "Target: tensor([11290.8867])\n",
      "Prediction: tensor([11814.6357])\n"
     ]
    }
   ],
   "source": [
    "input, target = val_ds[10]\n",
    "predict_single(input, target, model)"
   ]
  },
  {
   "cell_type": "code",
   "execution_count": 63,
   "metadata": {
    "colab": {
     "base_uri": "https://localhost:8080/"
    },
    "executionInfo": {
     "elapsed": 372,
     "status": "ok",
     "timestamp": 1674146917950,
     "user": {
      "displayName": "Din Mohammad Dohan",
      "userId": "06140535210708391819"
     },
     "user_tz": -360
    },
    "id": "kFkqrxfw3Vlg",
    "outputId": "7ee7312a-5784-4300-8531-3ce269b682f6"
   },
   "outputs": [
    {
     "name": "stdout",
     "output_type": "stream",
     "text": [
      "Input: tensor([31.0000,  0.0000, 34.3140,  1.0000,  0.0000])\n",
      "Target: tensor([5212.0952])\n",
      "Prediction: tensor([6157.6582])\n"
     ]
    }
   ],
   "source": [
    "input, target = val_ds[23]\n",
    "predict_single(input, target, model)"
   ]
  },
  {
   "cell_type": "code",
   "execution_count": 64,
   "metadata": {
    "colab": {
     "base_uri": "https://localhost:8080/"
    },
    "executionInfo": {
     "elapsed": 385,
     "status": "ok",
     "timestamp": 1674146923840,
     "user": {
      "displayName": "Din Mohammad Dohan",
      "userId": "06140535210708391819"
     },
     "user_tz": -360
    },
    "id": "fdngPu3C3lMQ",
    "outputId": "335c51bc-38d2-4944-e3a2-c613ddac6566"
   },
   "outputs": [
    {
     "name": "stdout",
     "output_type": "stream",
     "text": [
      "Input: tensor([29.0000,  0.0000, 29.3370,  1.0000,  1.0000])\n",
      "Target: tensor([21018.5566])\n",
      "Prediction: tensor([18944.7422])\n"
     ]
    }
   ],
   "source": [
    "input, target = val_ds[113]\n",
    "predict_single(input, target, model)"
   ]
  },
  {
   "cell_type": "markdown",
   "metadata": {
    "id": "YfxqHHTiBnq3"
   },
   "source": [
    "I'm happy with this model's predictions 🙃"
   ]
  },
  {
   "cell_type": "markdown",
   "metadata": {
    "id": "Ctuve3ufBnq4"
   },
   "source": [
    "## (Optional) Step 6: Try another dataset & blog about it\n",
    "\n",
    "While this last step is optional for the submission of your assignment, we highly recommend that you do it. Try to replicate this notebook for a different linear regression or logistic regression problem. This will help solidify your understanding, and give you a chance to differentiate the generic patterns in machine learning from problem-specific details.You can use one of these starer notebooks (just change the dataset):\n",
    "\n",
    "- Linear regression (minimal): https://jovian.ai/aakashns/housing-linear-minimal\n",
    "- Logistic regression (minimal): https://jovian.ai/aakashns/mnist-logistic-minimal\n",
    "\n",
    "Here are some sources to find good datasets:\n",
    "\n",
    "- https://lionbridge.ai/datasets/10-open-datasets-for-linear-regression/\n",
    "- https://www.kaggle.com/rtatman/datasets-for-regression-analysis\n",
    "- https://archive.ics.uci.edu/ml/datasets.php?format=&task=reg&att=&area=&numAtt=&numIns=&type=&sort=nameUp&view=table\n",
    "- https://people.sc.fsu.edu/~jburkardt/datasets/regression/regression.html\n",
    "- https://archive.ics.uci.edu/ml/datasets/wine+quality\n",
    "- https://pytorch.org/docs/stable/torchvision/datasets.html\n",
    "\n",
    "We also recommend that you write a blog about your approach to the problem. Here is a suggested structure for your post (feel free to experiment with it):\n",
    "\n",
    "- Interesting title & subtitle\n",
    "- Overview of what the blog covers (which dataset, linear regression or logistic regression, intro to PyTorch)\n",
    "- Downloading & exploring the data\n",
    "- Preparing the data for training\n",
    "- Creating a model using PyTorch\n",
    "- Training the model to fit the data\n",
    "- Your thoughts on how to experiment with different hyperparmeters to reduce loss\n",
    "- Making predictions using the model\n",
    "\n",
    "As with the previous assignment, you can [embed Juptyer notebook cells & outputs from Jovian](https://medium.com/jovianml/share-and-embed-jupyter-notebooks-online-with-jovian-ml-df709a03064e) into your blog. \n",
    "\n",
    "Don't forget to share your work on the forum: https://jovian.ai/forum/t/linear-regression-and-logistic-regression-notebooks-and-blog-posts/14039"
   ]
  },
  {
   "cell_type": "code",
   "execution_count": 54,
   "metadata": {
    "colab": {
     "base_uri": "https://localhost:8080/"
    },
    "executionInfo": {
     "elapsed": 18,
     "status": "ok",
     "timestamp": 1674146843825,
     "user": {
      "displayName": "Din Mohammad Dohan",
      "userId": "06140535210708391819"
     },
     "user_tz": -360
    },
    "id": "WP-K88peBnq4",
    "outputId": "095dea95-e589-44c2-f610-a60f0254501a"
   },
   "outputs": [
    {
     "name": "stdout",
     "output_type": "stream",
     "text": [
      "[jovian] Detected Colab notebook...\u001b[0m\n",
      "[jovian] jovian.commit() is no longer required on Google Colab. If you ran this notebook from Jovian, \n",
      "then just save this file in Colab using Ctrl+S/Cmd+S and it will be updated on Jovian. \n",
      "Also, you can also delete this cell, it's no longer necessary.\u001b[0m\n",
      "[jovian] Detected Colab notebook...\u001b[0m\n",
      "[jovian] jovian.commit() is no longer required on Google Colab. If you ran this notebook from Jovian, \n",
      "then just save this file in Colab using Ctrl+S/Cmd+S and it will be updated on Jovian. \n",
      "Also, you can also delete this cell, it's no longer necessary.\u001b[0m\n"
     ]
    }
   ],
   "source": [
    "jovian.commit(project=project_name, environment=None)\n",
    "jovian.commit(project=project_name, environment=None) # try again, kaggle fails sometimes"
   ]
  },
  {
   "cell_type": "code",
   "execution_count": 54,
   "metadata": {
    "executionInfo": {
     "elapsed": 14,
     "status": "ok",
     "timestamp": 1674146843825,
     "user": {
      "displayName": "Din Mohammad Dohan",
      "userId": "06140535210708391819"
     },
     "user_tz": -360
    },
    "id": "KY6dXOQaBnq5"
   },
   "outputs": [],
   "source": []
  }
 ],
 "metadata": {
  "colab": {
   "provenance": []
  },
  "language_info": {
   "codemirror_mode": {
    "name": "ipython",
    "version": 3
   },
   "file_extension": ".py",
   "mimetype": "text/x-python",
   "name": "python",
   "nbconvert_exporter": "python",
   "pygments_lexer": "ipython3",
   "version": "3.9.6"
  }
 },
 "nbformat": 4,
 "nbformat_minor": 0
}