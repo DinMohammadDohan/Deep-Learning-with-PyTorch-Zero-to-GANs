{
 "cells": [
  {
   "cell_type": "markdown",
   "metadata": {
    "id": "7iYwrkhZowCp"
   },
   "source": [
    "\n",
    "\n",
    "\n"
   ]
  },
  {
   "cell_type": "markdown",
   "metadata": {
    "id": "5RAi_AqEowCs"
   },
   "source": [
    "# Five Tensor Functions using Pytorch\n",
    "\n",
    "Like vectors and matrices, tensors can be represented in Python using the N-dimensional array (ndarray). Tensors use matrix to represent. It makes it so much easy to represent information in an array. Here are five tensor functions:\n",
    "\n",
    "- torch.eye()\n",
    "- torch.unbind()\n",
    "- torch.take()\n",
    "- torch.clone()\n",
    "- torch.polar()\n",
    "\n",
    "Before we begin, let's install and import PyTorch"
   ]
  },
  {
   "cell_type": "code",
   "execution_count": 15,
   "metadata": {
    "executionInfo": {
     "elapsed": 376,
     "status": "ok",
     "timestamp": 1633105061770,
     "user": {
      "displayName": "Din Mohammad Dohan",
      "photoUrl": "https://lh3.googleusercontent.com/a-/AOh14GhWVYADoPDZXPcc-XATfByl6TCTGR1hfdi5y4fK=s64",
      "userId": "06140535210708391819"
     },
     "user_tz": -360
    },
    "id": "hZfTaBmUowCv"
   },
   "outputs": [],
   "source": [
    "# Import torch and other required modules\n",
    "import torch"
   ]
  },
  {
   "cell_type": "markdown",
   "metadata": {
    "id": "gfmfNhXxowCv"
   },
   "source": [
    "## Function 1 - torch.eye()\n",
    "\n",
    "Returns a 2-D tensor with ones on the diagonal and zeros elsewhere."
   ]
  },
  {
   "cell_type": "code",
   "execution_count": 16,
   "metadata": {
    "colab": {
     "base_uri": "https://localhost:8080/"
    },
    "executionInfo": {
     "elapsed": 575,
     "status": "ok",
     "timestamp": 1633105066496,
     "user": {
      "displayName": "Din Mohammad Dohan",
      "photoUrl": "https://lh3.googleusercontent.com/a-/AOh14GhWVYADoPDZXPcc-XATfByl6TCTGR1hfdi5y4fK=s64",
      "userId": "06140535210708391819"
     },
     "user_tz": -360
    },
    "id": "fSoc66f8owCw",
    "outputId": "c20f4dae-47cb-4346-8a58-f0e03391dfc1"
   },
   "outputs": [
    {
     "data": {
      "text/plain": [
       "tensor([[1., 0., 0., 0.],\n",
       "        [0., 1., 0., 0.],\n",
       "        [0., 0., 1., 0.]])"
      ]
     },
     "execution_count": 16,
     "metadata": {},
     "output_type": "execute_result"
    }
   ],
   "source": [
    "# Example 1 \n",
    "\n",
    "num = torch.eye(n=3, m=4)\n",
    "num"
   ]
  },
  {
   "cell_type": "markdown",
   "metadata": {
    "id": "3EmYQTCHowCy"
   },
   "source": [
    "The above code was used to create a tensor which was diagonal with values being ones and zeros"
   ]
  },
  {
   "cell_type": "code",
   "execution_count": 17,
   "metadata": {
    "colab": {
     "base_uri": "https://localhost:8080/"
    },
    "executionInfo": {
     "elapsed": 429,
     "status": "ok",
     "timestamp": 1633105069524,
     "user": {
      "displayName": "Din Mohammad Dohan",
      "photoUrl": "https://lh3.googleusercontent.com/a-/AOh14GhWVYADoPDZXPcc-XATfByl6TCTGR1hfdi5y4fK=s64",
      "userId": "06140535210708391819"
     },
     "user_tz": -360
    },
    "id": "0y6fxoeHowCz",
    "outputId": "76822b60-65ee-4464-bfa1-4c857cd1e264"
   },
   "outputs": [
    {
     "data": {
      "text/plain": [
       "tensor([[1., 0., 0., 0., 0., 0., 0.],\n",
       "        [0., 1., 0., 0., 0., 0., 0.],\n",
       "        [0., 0., 1., 0., 0., 0., 0.],\n",
       "        [0., 0., 0., 1., 0., 0., 0.],\n",
       "        [0., 0., 0., 0., 1., 0., 0.],\n",
       "        [0., 0., 0., 0., 0., 1., 0.],\n",
       "        [0., 0., 0., 0., 0., 0., 1.]])"
      ]
     },
     "execution_count": 17,
     "metadata": {},
     "output_type": "execute_result"
    }
   ],
   "source": [
    "# Example 2 \n",
    "\n",
    "num = torch.eye(n=7)\n",
    "num"
   ]
  },
  {
   "cell_type": "markdown",
   "metadata": {
    "id": "Zn41XtxbowC0"
   },
   "source": [
    "The above code shows output of an nxn tensor due to the fact that we specified n only and not nxm"
   ]
  },
  {
   "cell_type": "code",
   "execution_count": 18,
   "metadata": {
    "colab": {
     "base_uri": "https://localhost:8080/",
     "height": 269
    },
    "executionInfo": {
     "elapsed": 21,
     "status": "error",
     "timestamp": 1633105072136,
     "user": {
      "displayName": "Din Mohammad Dohan",
      "photoUrl": "https://lh3.googleusercontent.com/a-/AOh14GhWVYADoPDZXPcc-XATfByl6TCTGR1hfdi5y4fK=s64",
      "userId": "06140535210708391819"
     },
     "user_tz": -360
    },
    "id": "-bs6oIP8owC1",
    "outputId": "8d98c472-b238-428b-ff3a-f89ee610696e"
   },
   "outputs": [
    {
     "ename": "TypeError",
     "evalue": "ignored",
     "output_type": "error",
     "traceback": [
      "\u001b[0;31m---------------------------------------------------------------------------\u001b[0m",
      "\u001b[0;31mTypeError\u001b[0m                                 Traceback (most recent call last)",
      "\u001b[0;32m<ipython-input-18-9465f88504f5>\u001b[0m in \u001b[0;36m<module>\u001b[0;34m()\u001b[0m\n\u001b[1;32m      1\u001b[0m \u001b[0;31m# Example 3 - breaking (to illustrate when it breaks)\u001b[0m\u001b[0;34m\u001b[0m\u001b[0;34m\u001b[0m\u001b[0;34m\u001b[0m\u001b[0m\n\u001b[1;32m      2\u001b[0m \u001b[0;34m\u001b[0m\u001b[0m\n\u001b[0;32m----> 3\u001b[0;31m \u001b[0mnum1\u001b[0m \u001b[0;34m=\u001b[0m \u001b[0mtorch\u001b[0m\u001b[0;34m.\u001b[0m\u001b[0meye\u001b[0m\u001b[0;34m(\u001b[0m\u001b[0mn\u001b[0m\u001b[0;34m=\u001b[0m\u001b[0;36m10\u001b[0m\u001b[0;34m,\u001b[0m \u001b[0mm\u001b[0m\u001b[0;34m=\u001b[0m\u001b[0;36m2.5\u001b[0m\u001b[0;34m)\u001b[0m\u001b[0;34m\u001b[0m\u001b[0;34m\u001b[0m\u001b[0m\n\u001b[0m\u001b[1;32m      4\u001b[0m \u001b[0;34m\u001b[0m\u001b[0m\n\u001b[1;32m      5\u001b[0m \u001b[0mnum1\u001b[0m\u001b[0;34m\u001b[0m\u001b[0;34m\u001b[0m\u001b[0m\n",
      "\u001b[0;31mTypeError\u001b[0m: eye() received an invalid combination of arguments - got (m=float, n=int, ), but expected one of:\n * (int n, *, Tensor out, torch.dtype dtype, torch.layout layout, torch.device device, bool pin_memory, bool requires_grad)\n * (int n, int m, *, Tensor out, torch.dtype dtype, torch.layout layout, torch.device device, bool pin_memory, bool requires_grad)\n"
     ]
    }
   ],
   "source": [
    "# Example 3 - breaking (to illustrate when it breaks)\n",
    "\n",
    "num1 = torch.eye(n=10, m=2.5)\n",
    "\n",
    "num1"
   ]
  },
  {
   "cell_type": "markdown",
   "metadata": {
    "id": "wTsMQGKrowC1"
   },
   "source": [
    "The above example throws an error beacause a float value was passed in the .eye function argument.\n",
    "\n",
    "Therefore, it is important that we remember to always pass an integer value the .eye argument when palcing values for n or m\n",
    "\n",
    "This is used when we want to create a diagonal tensor"
   ]
  },
  {
   "cell_type": "markdown",
   "metadata": {
    "id": "GceaCX7iowC2"
   },
   "source": [
    "Let's save our work using Jovian before continuing."
   ]
  },
  {
   "cell_type": "code",
   "execution_count": 19,
   "metadata": {
    "executionInfo": {
     "elapsed": 2998,
     "status": "ok",
     "timestamp": 1633105078898,
     "user": {
      "displayName": "Din Mohammad Dohan",
      "photoUrl": "https://lh3.googleusercontent.com/a-/AOh14GhWVYADoPDZXPcc-XATfByl6TCTGR1hfdi5y4fK=s64",
      "userId": "06140535210708391819"
     },
     "user_tz": -360
    },
    "id": "_xyqaZ1ZowC2"
   },
   "outputs": [],
   "source": [
    "!pip install jovian --upgrade --quiet"
   ]
  },
  {
   "cell_type": "code",
   "execution_count": null,
   "metadata": {
    "id": "jdy8fE6AowC3"
   },
   "outputs": [],
   "source": [
    "import jovian"
   ]
  },
  {
   "cell_type": "code",
   "execution_count": 20,
   "metadata": {
    "colab": {
     "base_uri": "https://localhost:8080/",
     "height": 122
    },
    "executionInfo": {
     "elapsed": 30158,
     "status": "ok",
     "timestamp": 1633105111746,
     "user": {
      "displayName": "Din Mohammad Dohan",
      "photoUrl": "https://lh3.googleusercontent.com/a-/AOh14GhWVYADoPDZXPcc-XATfByl6TCTGR1hfdi5y4fK=s64",
      "userId": "06140535210708391819"
     },
     "user_tz": -360
    },
    "id": "UqL6i0LLowC3",
    "outputId": "3fe1f117-aef2-45ed-ce9d-39fe863e11e2"
   },
   "outputs": [
    {
     "name": "stdout",
     "output_type": "stream",
     "text": [
      "[jovian] Detected Colab notebook...\u001b[0m\n",
      "[jovian] Please enter your API key ( from https://jovian.ai/ ):\u001b[0m\n",
      "API KEY: ··········\n",
      "[jovian] Uploading colab notebook to Jovian...\u001b[0m\n",
      "Committed successfully! https://jovian.ai/dinmdohan813/01-tensor-operations\n"
     ]
    },
    {
     "data": {
      "application/vnd.google.colaboratory.intrinsic+json": {
       "type": "string"
      },
      "text/plain": [
       "'https://jovian.ai/dinmdohan813/01-tensor-operations'"
      ]
     },
     "execution_count": 20,
     "metadata": {},
     "output_type": "execute_result"
    }
   ],
   "source": [
    "jovian.commit(project='01-tensor-operations')"
   ]
  },
  {
   "cell_type": "markdown",
   "metadata": {
    "id": "xTazVlVOowC4"
   },
   "source": [
    "## Function 2 - torch.unbind()\n",
    "\n",
    "This function removes a tensor dimension along the given dimension dim The default dimension is 0 i.e. dim=0\n",
    "\n"
   ]
  },
  {
   "cell_type": "code",
   "execution_count": 22,
   "metadata": {
    "colab": {
     "base_uri": "https://localhost:8080/"
    },
    "executionInfo": {
     "elapsed": 394,
     "status": "ok",
     "timestamp": 1633105124411,
     "user": {
      "displayName": "Din Mohammad Dohan",
      "photoUrl": "https://lh3.googleusercontent.com/a-/AOh14GhWVYADoPDZXPcc-XATfByl6TCTGR1hfdi5y4fK=s64",
      "userId": "06140535210708391819"
     },
     "user_tz": -360
    },
    "id": "HeTLb06xowC4",
    "outputId": "b832f8e9-7c9e-4dd3-9da4-83f79a274038"
   },
   "outputs": [
    {
     "name": "stdout",
     "output_type": "stream",
     "text": [
      "tensor([[ 2,  4,  6],\n",
      "        [ 8, 10, 12]])\n"
     ]
    },
    {
     "data": {
      "text/plain": [
       "(tensor([2, 4, 6]), tensor([ 8, 10, 12]))"
      ]
     },
     "execution_count": 22,
     "metadata": {},
     "output_type": "execute_result"
    }
   ],
   "source": [
    "# Example 1 -\n",
    "\n",
    "num1 = torch.tensor([[2, 4, 6],\n",
    "                  [8, 10, 12]])\n",
    "\n",
    "print(num1)\n",
    "num2 = torch.unbind(num1)\n",
    "num2"
   ]
  },
  {
   "cell_type": "markdown",
   "metadata": {
    "id": "osBqRh2YowC4"
   },
   "source": [
    "The above example shows two ouput:\n",
    "\n",
    "- Which is the output of num1\n",
    "- The second ouput which is the output for num2. Now from the output, we can see that torch.unbind is used to remove the dimension of a tensor."
   ]
  },
  {
   "cell_type": "code",
   "execution_count": 23,
   "metadata": {
    "colab": {
     "base_uri": "https://localhost:8080/"
    },
    "executionInfo": {
     "elapsed": 405,
     "status": "ok",
     "timestamp": 1633105127715,
     "user": {
      "displayName": "Din Mohammad Dohan",
      "photoUrl": "https://lh3.googleusercontent.com/a-/AOh14GhWVYADoPDZXPcc-XATfByl6TCTGR1hfdi5y4fK=s64",
      "userId": "06140535210708391819"
     },
     "user_tz": -360
    },
    "id": "Sh8pSpVfowC5",
    "outputId": "39271761-2b48-421a-b6a7-569e5f49c46d"
   },
   "outputs": [
    {
     "name": "stdout",
     "output_type": "stream",
     "text": [
      "torch.Size([2, 2, 3])\n"
     ]
    },
    {
     "data": {
      "text/plain": [
       "(tensor([[ 2,  8],\n",
       "         [10, 40]]), tensor([[ 4, 10],\n",
       "         [20, 50]]), tensor([[ 6, 12],\n",
       "         [30, 60]]))"
      ]
     },
     "execution_count": 23,
     "metadata": {},
     "output_type": "execute_result"
    }
   ],
   "source": [
    "# Example 2 \n",
    "\n",
    "num1 = torch.tensor([[[2, 4, 6],\n",
    "                  [8, 10, 12]],\n",
    "                  [[10, 20, 30],\n",
    "                  [40, 50, 60]]])\n",
    "\n",
    "print(num1.shape)\n",
    "num2 = torch.unbind(num1, dim=2)\n",
    "num2"
   ]
  },
  {
   "cell_type": "markdown",
   "metadata": {
    "id": "QrOAjLbXowC5"
   },
   "source": [
    "The above example has num1 having a shape of 2 x 2 x 3.\n",
    "\n",
    "Now, using the unbind function and giving dimension to be 2 has unbinded the tensor values into a 2 seperate tensor."
   ]
  },
  {
   "cell_type": "code",
   "execution_count": 25,
   "metadata": {
    "colab": {
     "base_uri": "https://localhost:8080/",
     "height": 304
    },
    "executionInfo": {
     "elapsed": 416,
     "status": "error",
     "timestamp": 1633105136766,
     "user": {
      "displayName": "Din Mohammad Dohan",
      "photoUrl": "https://lh3.googleusercontent.com/a-/AOh14GhWVYADoPDZXPcc-XATfByl6TCTGR1hfdi5y4fK=s64",
      "userId": "06140535210708391819"
     },
     "user_tz": -360
    },
    "id": "7LRIY5bFowC5",
    "outputId": "abf0bb9f-06d2-4645-aa44-687dff77ad73"
   },
   "outputs": [
    {
     "name": "stdout",
     "output_type": "stream",
     "text": [
      "tensor([[[ 2,  4,  6],\n",
      "         [ 8, 10, 12]],\n",
      "\n",
      "        [[10, 20, 30],\n",
      "         [40, 50, 60]]])\n"
     ]
    },
    {
     "ename": "IndexError",
     "evalue": "ignored",
     "output_type": "error",
     "traceback": [
      "\u001b[0;31m---------------------------------------------------------------------------\u001b[0m",
      "\u001b[0;31mIndexError\u001b[0m                                Traceback (most recent call last)",
      "\u001b[0;32m<ipython-input-25-7c0000dc7e50>\u001b[0m in \u001b[0;36m<module>\u001b[0;34m()\u001b[0m\n\u001b[1;32m      7\u001b[0m \u001b[0;34m\u001b[0m\u001b[0m\n\u001b[1;32m      8\u001b[0m \u001b[0mprint\u001b[0m\u001b[0;34m(\u001b[0m\u001b[0mnum1\u001b[0m\u001b[0;34m)\u001b[0m\u001b[0;34m\u001b[0m\u001b[0;34m\u001b[0m\u001b[0m\n\u001b[0;32m----> 9\u001b[0;31m \u001b[0mnum2\u001b[0m \u001b[0;34m=\u001b[0m \u001b[0mtorch\u001b[0m\u001b[0;34m.\u001b[0m\u001b[0munbind\u001b[0m\u001b[0;34m(\u001b[0m\u001b[0mnum1\u001b[0m\u001b[0;34m,\u001b[0m \u001b[0mdim\u001b[0m\u001b[0;34m=\u001b[0m\u001b[0;36m3\u001b[0m\u001b[0;34m)\u001b[0m\u001b[0;34m\u001b[0m\u001b[0;34m\u001b[0m\u001b[0m\n\u001b[0m\u001b[1;32m     10\u001b[0m \u001b[0mnum2\u001b[0m\u001b[0;34m\u001b[0m\u001b[0;34m\u001b[0m\u001b[0m\n",
      "\u001b[0;31mIndexError\u001b[0m: Dimension out of range (expected to be in range of [-3, 2], but got 3)"
     ]
    }
   ],
   "source": [
    "# Example 3 - breaking (to illustrate when it breaks)\n",
    "\n",
    "num1 = torch.tensor([[[2, 4, 6],\n",
    "                  [8, 10, 12]],\n",
    "                  [[10, 20, 30],\n",
    "                  [40, 50, 60]]])\n",
    "\n",
    "print(num1)\n",
    "num2 = torch.unbind(num1, dim=3)\n",
    "num2"
   ]
  },
  {
   "cell_type": "markdown",
   "metadata": {
    "id": "GypXKeyGowC6"
   },
   "source": [
    "The above example outputs an IndexError: Dimension out of range (expected to be in range of [-3, 2], but got 3) error. Meaning the dimension value 3 specified is not in line with the dimension of num1.\n",
    "\n",
    "This function is used whenever we want to remove the dimension of a tensor."
   ]
  },
  {
   "cell_type": "markdown",
   "metadata": {
    "id": "kiQpOMaZowC6"
   },
   "source": [
    "Closing comments about when to use this function"
   ]
  },
  {
   "cell_type": "code",
   "execution_count": 26,
   "metadata": {
    "colab": {
     "base_uri": "https://localhost:8080/",
     "height": 87
    },
    "executionInfo": {
     "elapsed": 2042,
     "status": "ok",
     "timestamp": 1633105142360,
     "user": {
      "displayName": "Din Mohammad Dohan",
      "photoUrl": "https://lh3.googleusercontent.com/a-/AOh14GhWVYADoPDZXPcc-XATfByl6TCTGR1hfdi5y4fK=s64",
      "userId": "06140535210708391819"
     },
     "user_tz": -360
    },
    "id": "Gmqn-X-nowC7",
    "outputId": "7097daff-5796-401c-a3cf-c3e8b6c34ca2"
   },
   "outputs": [
    {
     "name": "stdout",
     "output_type": "stream",
     "text": [
      "[jovian] Detected Colab notebook...\u001b[0m\n",
      "[jovian] Uploading colab notebook to Jovian...\u001b[0m\n",
      "Committed successfully! https://jovian.ai/dinmdohan813/01-tensor-operations\n"
     ]
    },
    {
     "data": {
      "application/vnd.google.colaboratory.intrinsic+json": {
       "type": "string"
      },
      "text/plain": [
       "'https://jovian.ai/dinmdohan813/01-tensor-operations'"
      ]
     },
     "execution_count": 26,
     "metadata": {},
     "output_type": "execute_result"
    }
   ],
   "source": [
    "jovian.commit(project='01-tensor-operations')"
   ]
  },
  {
   "cell_type": "markdown",
   "metadata": {
    "id": "S1MAeDlMowC7"
   },
   "source": [
    "## Function 3 - torch.take()\n",
    "\n",
    "Returns a tensor with the elements of the input tensors at the given indices. The input tensor is treated as a 1D tensor to return the values."
   ]
  },
  {
   "cell_type": "code",
   "execution_count": 33,
   "metadata": {
    "colab": {
     "base_uri": "https://localhost:8080/"
    },
    "executionInfo": {
     "elapsed": 377,
     "status": "ok",
     "timestamp": 1633106180361,
     "user": {
      "displayName": "Din Mohammad Dohan",
      "photoUrl": "https://lh3.googleusercontent.com/a-/AOh14GhWVYADoPDZXPcc-XATfByl6TCTGR1hfdi5y4fK=s64",
      "userId": "06140535210708391819"
     },
     "user_tz": -360
    },
    "id": "IgRsghAKowC7",
    "outputId": "ab6c7297-94d4-41c2-a12a-0096e9a41ef2"
   },
   "outputs": [
    {
     "data": {
      "text/plain": [
       "tensor([50])"
      ]
     },
     "execution_count": 33,
     "metadata": {},
     "output_type": "execute_result"
    }
   ],
   "source": [
    "# Example 1 -\n",
    "\n",
    "num1 = torch.tensor([10, 20, 30, 40, 50])\n",
    "\n",
    "num2 = torch.take(num1, torch.tensor([-1]))\n",
    "\n",
    "num2"
   ]
  },
  {
   "cell_type": "markdown",
   "metadata": {
    "id": "ivRFmnh6owC8"
   },
   "source": [
    "The above code had num1 taking in a 1D tensor value.\n",
    "\n",
    "num2 was given a value from the list of values in num1 and this was made possible by indexing (-1)."
   ]
  },
  {
   "cell_type": "code",
   "execution_count": 34,
   "metadata": {
    "colab": {
     "base_uri": "https://localhost:8080/"
    },
    "executionInfo": {
     "elapsed": 379,
     "status": "ok",
     "timestamp": 1633106227204,
     "user": {
      "displayName": "Din Mohammad Dohan",
      "photoUrl": "https://lh3.googleusercontent.com/a-/AOh14GhWVYADoPDZXPcc-XATfByl6TCTGR1hfdi5y4fK=s64",
      "userId": "06140535210708391819"
     },
     "user_tz": -360
    },
    "id": "iJIi3GxtowC8",
    "outputId": "8dfb07d1-cf6e-4a60-9d9f-fdd7e565a04f"
   },
   "outputs": [
    {
     "data": {
      "text/plain": [
       "tensor([100,  70])"
      ]
     },
     "execution_count": 34,
     "metadata": {},
     "output_type": "execute_result"
    }
   ],
   "source": [
    "# Example 2 \n",
    "\n",
    "num1 = torch.tensor([[10, 20, 30, 40, 50],\n",
    "                     [60, 70, 80, 90, 100]])\n",
    "\n",
    "num2 = torch.take(num1, torch.tensor([-1,-4]))\n",
    "\n",
    "num2"
   ]
  },
  {
   "cell_type": "markdown",
   "metadata": {
    "id": "HyrSTWJwowC8"
   },
   "source": [
    "The above example also shows a 2D tensor in num1.\n",
    "\n",
    "num2 was also giving a value from the tensor values as seen in num1.\n",
    "\n",
    "Now, the indexing was done from the back counting from -1 to -4."
   ]
  },
  {
   "cell_type": "code",
   "execution_count": 35,
   "metadata": {
    "colab": {
     "base_uri": "https://localhost:8080/",
     "height": 235
    },
    "executionInfo": {
     "elapsed": 627,
     "status": "error",
     "timestamp": 1633106274261,
     "user": {
      "displayName": "Din Mohammad Dohan",
      "photoUrl": "https://lh3.googleusercontent.com/a-/AOh14GhWVYADoPDZXPcc-XATfByl6TCTGR1hfdi5y4fK=s64",
      "userId": "06140535210708391819"
     },
     "user_tz": -360
    },
    "id": "c1zqryM8owC8",
    "outputId": "d767a545-5b96-444d-a8a8-587b0d61db8a"
   },
   "outputs": [
    {
     "ename": "TypeError",
     "evalue": "ignored",
     "output_type": "error",
     "traceback": [
      "\u001b[0;31m---------------------------------------------------------------------------\u001b[0m",
      "\u001b[0;31mTypeError\u001b[0m                                 Traceback (most recent call last)",
      "\u001b[0;32m<ipython-input-35-9e009621bca1>\u001b[0m in \u001b[0;36m<module>\u001b[0;34m()\u001b[0m\n\u001b[1;32m      4\u001b[0m                      [60, 70, 80, 90, 100]])\n\u001b[1;32m      5\u001b[0m \u001b[0;34m\u001b[0m\u001b[0m\n\u001b[0;32m----> 6\u001b[0;31m \u001b[0mnum2\u001b[0m \u001b[0;34m=\u001b[0m \u001b[0mtorch\u001b[0m\u001b[0;34m.\u001b[0m\u001b[0mtake\u001b[0m\u001b[0;34m(\u001b[0m\u001b[0mnum1\u001b[0m\u001b[0;34m)\u001b[0m\u001b[0;34m\u001b[0m\u001b[0;34m\u001b[0m\u001b[0m\n\u001b[0m\u001b[1;32m      7\u001b[0m \u001b[0;34m\u001b[0m\u001b[0m\n\u001b[1;32m      8\u001b[0m \u001b[0mnum2\u001b[0m\u001b[0;34m\u001b[0m\u001b[0;34m\u001b[0m\u001b[0m\n",
      "\u001b[0;31mTypeError\u001b[0m: take() missing 1 required positional arguments: \"index\""
     ]
    }
   ],
   "source": [
    "# Example 3 - breaking (to illustrate when it breaks)\n",
    "\n",
    "num1 = torch.tensor([[10, 20, 30, 40, 50],\n",
    "                     [60, 70, 80, 90, 100]])\n",
    "\n",
    "num2 = torch.take(num1)\n",
    "\n",
    "num2"
   ]
  },
  {
   "cell_type": "markdown",
   "metadata": {
    "id": "vc9z0CYDowC8"
   },
   "source": [
    "The above code throws an Error: TypeError: take() missing 1 required positional arguments: \"index\"\n",
    "\n",
    "Which signifies that an argument was missing and that argument was an index of value num1.\n",
    "\n",
    "This function is used when we want a specific value from a list of values in a tensor."
   ]
  },
  {
   "cell_type": "code",
   "execution_count": 36,
   "metadata": {
    "colab": {
     "base_uri": "https://localhost:8080/",
     "height": 87
    },
    "executionInfo": {
     "elapsed": 2967,
     "status": "ok",
     "timestamp": 1633106309092,
     "user": {
      "displayName": "Din Mohammad Dohan",
      "photoUrl": "https://lh3.googleusercontent.com/a-/AOh14GhWVYADoPDZXPcc-XATfByl6TCTGR1hfdi5y4fK=s64",
      "userId": "06140535210708391819"
     },
     "user_tz": -360
    },
    "id": "wVcOmht4owC9",
    "outputId": "06a27649-2e85-4fa9-c421-a1ac02753686"
   },
   "outputs": [
    {
     "name": "stdout",
     "output_type": "stream",
     "text": [
      "[jovian] Detected Colab notebook...\u001b[0m\n",
      "[jovian] Uploading colab notebook to Jovian...\u001b[0m\n",
      "Committed successfully! https://jovian.ai/dinmdohan813/01-tensor-operations\n"
     ]
    },
    {
     "data": {
      "application/vnd.google.colaboratory.intrinsic+json": {
       "type": "string"
      },
      "text/plain": [
       "'https://jovian.ai/dinmdohan813/01-tensor-operations'"
      ]
     },
     "execution_count": 36,
     "metadata": {},
     "output_type": "execute_result"
    }
   ],
   "source": [
    "jovian.commit(project='01-tensor-operations')"
   ]
  },
  {
   "cell_type": "markdown",
   "metadata": {
    "id": "lffeEsFbowC9"
   },
   "source": [
    "## Function 4 - torch.clone()\n",
    "\n",
    "Some explanations torch.Tensor.clone returns a copy of the tensor with the same size and data type.\n",
    "\n",
    "When we create a copy of the tensor using x=y , changing one variable also affects the other variable since it points to the same memory location."
   ]
  },
  {
   "cell_type": "code",
   "execution_count": 29,
   "metadata": {
    "colab": {
     "base_uri": "https://localhost:8080/"
    },
    "executionInfo": {
     "elapsed": 498,
     "status": "ok",
     "timestamp": 1633105768879,
     "user": {
      "displayName": "Din Mohammad Dohan",
      "photoUrl": "https://lh3.googleusercontent.com/a-/AOh14GhWVYADoPDZXPcc-XATfByl6TCTGR1hfdi5y4fK=s64",
      "userId": "06140535210708391819"
     },
     "user_tz": -360
    },
    "id": "kz-2O_fvowC-",
    "outputId": "80973b5f-3a63-463d-8284-37e998ec7d3f"
   },
   "outputs": [
    {
     "name": "stdout",
     "output_type": "stream",
     "text": [
      "num1 values: tensor([[ 5., 10.],\n",
      "        [15., 20.],\n",
      "        [25., 30.]])\n",
      "num2 values tensor([[ 5., 10.],\n",
      "        [15., 20.],\n",
      "        [25.,  2.]])\n"
     ]
    }
   ],
   "source": [
    "# Example 1 \n",
    "num1 = torch.tensor([[5., 10.],\n",
    "                  [15., 20.],\n",
    "                  [25., 30.]])\n",
    "print('num1 values:', num1)\n",
    "num2 = num1\n",
    "num1[2,1]=2\n",
    "print('num2 values', num2)"
   ]
  },
  {
   "cell_type": "markdown",
   "metadata": {
    "id": "uwUrjrZEowC-"
   },
   "source": [
    "The above code has a variable by name (num1) with a 3 x 2 shape.\n",
    "\n",
    "num2 was given the value of num1 when we used the Equality = sign (num2 = num1).\n",
    "\n",
    "After which, a value was changed in num1 via indexing to a value of 2. But due to the fact that num2 was given the values of num1, the change in num1 was outputed in num2."
   ]
  },
  {
   "cell_type": "code",
   "execution_count": 30,
   "metadata": {
    "colab": {
     "base_uri": "https://localhost:8080/"
    },
    "executionInfo": {
     "elapsed": 393,
     "status": "ok",
     "timestamp": 1633105842773,
     "user": {
      "displayName": "Din Mohammad Dohan",
      "photoUrl": "https://lh3.googleusercontent.com/a-/AOh14GhWVYADoPDZXPcc-XATfByl6TCTGR1hfdi5y4fK=s64",
      "userId": "06140535210708391819"
     },
     "user_tz": -360
    },
    "id": "GlnjavptowC-",
    "outputId": "cdf2d9aa-c242-458a-98f2-037c34e00731"
   },
   "outputs": [
    {
     "name": "stdout",
     "output_type": "stream",
     "text": [
      "num1 values: tensor([[ 5., 10.],\n",
      "        [15., 20.],\n",
      "        [25., 30.]])\n",
      "num2 values tensor([[ 5., 10.],\n",
      "        [15., 20.],\n",
      "        [25., 30.]])\n"
     ]
    }
   ],
   "source": [
    "# Example 2 \n",
    "\n",
    "num1 = torch.tensor([[5., 10.],\n",
    "                  [15., 20.],\n",
    "                  [25., 30.]])\n",
    "print('num1 values:', num1)\n",
    "\n",
    "num2 = num1.clone()\n",
    "num1[2,1]=2\n",
    "print('num2 values', num2)"
   ]
  },
  {
   "cell_type": "markdown",
   "metadata": {
    "id": "bCAevcZyowC-"
   },
   "source": [
    "From our second example, you can see that using .clone() to give value to num2 made it possible to retain the deepcopy of our previous tensor of (num1) even after making changes to it."
   ]
  },
  {
   "cell_type": "code",
   "execution_count": 31,
   "metadata": {
    "colab": {
     "base_uri": "https://localhost:8080/"
    },
    "executionInfo": {
     "elapsed": 395,
     "status": "ok",
     "timestamp": 1633105994273,
     "user": {
      "displayName": "Din Mohammad Dohan",
      "photoUrl": "https://lh3.googleusercontent.com/a-/AOh14GhWVYADoPDZXPcc-XATfByl6TCTGR1hfdi5y4fK=s64",
      "userId": "06140535210708391819"
     },
     "user_tz": -360
    },
    "id": "j-qmESdvowC-",
    "outputId": "156afd27-22ef-446b-ed0e-e873644d87b8"
   },
   "outputs": [
    {
     "name": "stdout",
     "output_type": "stream",
     "text": [
      "num1 values: tensor([[ 5., 10.],\n",
      "        [15., 20.],\n",
      "        [25., 30.]])\n",
      "num2 values <built-in method clone of Tensor object at 0x7fb154b50a00>\n"
     ]
    }
   ],
   "source": [
    "# Example 3 - breaking (to illustrate when it breaks)\n",
    "num1 = torch.tensor([[5., 10.],\n",
    "                  [15., 20.],\n",
    "                  [25., 30.]])\n",
    "print('num1 values:', num1)\n",
    "num2 = num1.clone\n",
    "num1[2,1]=2\n",
    "print('num2 values', num2)"
   ]
  },
  {
   "cell_type": "markdown",
   "metadata": {
    "id": "s185vNm7owC_"
   },
   "source": [
    "We could not get the value nor output of num2 even after giving it same values as seen in num1 due to the fact that the parenthesis was omitted.\n",
    "\n",
    "Therefore, it is paramount to always add the parenthesis at the end of the clone function.\n",
    "\n",
    "Always add the parenthesis at the end of the clone command (Do .clone() and not .clone)\n",
    "\n",
    "This function is used when we want a value of a variable to be exact value with another variable irrespective of whatever change that may occur on the cloned variable.\n",
    "\n",
    "Let's save our work using Jovian before continuing."
   ]
  },
  {
   "cell_type": "code",
   "execution_count": 32,
   "metadata": {
    "colab": {
     "base_uri": "https://localhost:8080/",
     "height": 87
    },
    "executionInfo": {
     "elapsed": 3351,
     "status": "ok",
     "timestamp": 1633106004052,
     "user": {
      "displayName": "Din Mohammad Dohan",
      "photoUrl": "https://lh3.googleusercontent.com/a-/AOh14GhWVYADoPDZXPcc-XATfByl6TCTGR1hfdi5y4fK=s64",
      "userId": "06140535210708391819"
     },
     "user_tz": -360
    },
    "id": "su3Fcx5howC_",
    "outputId": "cffadd23-586c-43b5-bf75-d6437b093672"
   },
   "outputs": [
    {
     "name": "stdout",
     "output_type": "stream",
     "text": [
      "[jovian] Detected Colab notebook...\u001b[0m\n",
      "[jovian] Uploading colab notebook to Jovian...\u001b[0m\n",
      "Committed successfully! https://jovian.ai/dinmdohan813/01-tensor-operations\n"
     ]
    },
    {
     "data": {
      "application/vnd.google.colaboratory.intrinsic+json": {
       "type": "string"
      },
      "text/plain": [
       "'https://jovian.ai/dinmdohan813/01-tensor-operations'"
      ]
     },
     "execution_count": 32,
     "metadata": {},
     "output_type": "execute_result"
    }
   ],
   "source": [
    "jovian.commit(project='01-tensor-operations')"
   ]
  },
  {
   "cell_type": "markdown",
   "metadata": {
    "id": "2uUKMT6xowC_"
   },
   "source": [
    "## Function 5 - torch.rand()\n",
    "\n",
    "The rand functions come in a number of flavours we have the rand() ,randn() and the randint(). Basically this function gives you a tensor of random numbers"
   ]
  },
  {
   "cell_type": "code",
   "execution_count": 37,
   "metadata": {
    "colab": {
     "base_uri": "https://localhost:8080/"
    },
    "executionInfo": {
     "elapsed": 390,
     "status": "ok",
     "timestamp": 1633106453830,
     "user": {
      "displayName": "Din Mohammad Dohan",
      "photoUrl": "https://lh3.googleusercontent.com/a-/AOh14GhWVYADoPDZXPcc-XATfByl6TCTGR1hfdi5y4fK=s64",
      "userId": "06140535210708391819"
     },
     "user_tz": -360
    },
    "id": "Y5JtCcsDowDA",
    "outputId": "04bfb015-c011-43d2-f0d2-c8aac8135516"
   },
   "outputs": [
    {
     "data": {
      "text/plain": [
       "tensor([[0.2619, 0.8590, 0.1870],\n",
       "        [0.7463, 0.7283, 0.9087],\n",
       "        [0.8312, 0.2541, 0.8936],\n",
       "        [0.3101, 0.1543, 0.0027]])"
      ]
     },
     "execution_count": 37,
     "metadata": {},
     "output_type": "execute_result"
    }
   ],
   "source": [
    "# We start with the rand()function\n",
    "tens1=torch.rand(4,3)\n",
    "tens1"
   ]
  },
  {
   "cell_type": "markdown",
   "metadata": {
    "id": "a3-QkOszowDA"
   },
   "source": [
    "This fuction is given the number of rows and columns then it will give you random numbers from a uniform distribution of the interval between 0(inclusive) and 1(exclusive). In our example we have a 4 x 3 tensor."
   ]
  },
  {
   "cell_type": "code",
   "execution_count": 38,
   "metadata": {
    "colab": {
     "base_uri": "https://localhost:8080/"
    },
    "executionInfo": {
     "elapsed": 399,
     "status": "ok",
     "timestamp": 1633106492612,
     "user": {
      "displayName": "Din Mohammad Dohan",
      "photoUrl": "https://lh3.googleusercontent.com/a-/AOh14GhWVYADoPDZXPcc-XATfByl6TCTGR1hfdi5y4fK=s64",
      "userId": "06140535210708391819"
     },
     "user_tz": -360
    },
    "id": "hPmeotRJowDA",
    "outputId": "b0a434ab-235b-4755-f19d-5c654b47cb54"
   },
   "outputs": [
    {
     "name": "stdout",
     "output_type": "stream",
     "text": [
      "tensor([[14,  8, 13],\n",
      "        [11, 16, 11],\n",
      "        [ 4,  7,  9],\n",
      "        [ 5, 10, 17]])\n"
     ]
    }
   ],
   "source": [
    "# We look at the randint()fuction\n",
    "tens2=torch.randint(3,19,(4,3))\n",
    "print(tens2)"
   ]
  },
  {
   "cell_type": "markdown",
   "metadata": {
    "id": "K2d-2IwkowDA"
   },
   "source": [
    "This gives us a random distribution of integers. You pass to it torch.randint(start,end,(rows,columns)) these are integers whilst the oter gives us the floats."
   ]
  },
  {
   "cell_type": "code",
   "execution_count": 39,
   "metadata": {
    "colab": {
     "base_uri": "https://localhost:8080/",
     "height": 252
    },
    "executionInfo": {
     "elapsed": 410,
     "status": "error",
     "timestamp": 1633106532821,
     "user": {
      "displayName": "Din Mohammad Dohan",
      "photoUrl": "https://lh3.googleusercontent.com/a-/AOh14GhWVYADoPDZXPcc-XATfByl6TCTGR1hfdi5y4fK=s64",
      "userId": "06140535210708391819"
     },
     "user_tz": -360
    },
    "id": "a5FqsDx4owDA",
    "outputId": "30b964e9-e2df-433f-f6ba-5d4d231fa690"
   },
   "outputs": [
    {
     "ename": "TypeError",
     "evalue": "ignored",
     "output_type": "error",
     "traceback": [
      "\u001b[0;31m---------------------------------------------------------------------------\u001b[0m",
      "\u001b[0;31mTypeError\u001b[0m                                 Traceback (most recent call last)",
      "\u001b[0;32m<ipython-input-39-d798e5dc4543>\u001b[0m in \u001b[0;36m<module>\u001b[0;34m()\u001b[0m\n\u001b[1;32m      1\u001b[0m \u001b[0;31m# Example 3 - breaking (to illustrate when it breaks)\u001b[0m\u001b[0;34m\u001b[0m\u001b[0;34m\u001b[0m\u001b[0;34m\u001b[0m\u001b[0m\n\u001b[0;32m----> 2\u001b[0;31m \u001b[0mtens3\u001b[0m\u001b[0;34m=\u001b[0m\u001b[0mtorch\u001b[0m\u001b[0;34m.\u001b[0m\u001b[0mrandint\u001b[0m\u001b[0;34m(\u001b[0m\u001b[0;36m2.\u001b[0m\u001b[0;34m,\u001b[0m\u001b[0;36m15\u001b[0m\u001b[0;34m,\u001b[0m\u001b[0;34m(\u001b[0m\u001b[0;36m4\u001b[0m\u001b[0;34m,\u001b[0m\u001b[0;36m4\u001b[0m\u001b[0;34m)\u001b[0m\u001b[0;34m)\u001b[0m\u001b[0;34m\u001b[0m\u001b[0;34m\u001b[0m\u001b[0m\n\u001b[0m\u001b[1;32m      3\u001b[0m \u001b[0mtens\u001b[0m\u001b[0;34m\u001b[0m\u001b[0;34m\u001b[0m\u001b[0m\n",
      "\u001b[0;31mTypeError\u001b[0m: randint() received an invalid combination of arguments - got (float, int, tuple), but expected one of:\n * (int high, tuple of ints size, *, torch.Generator generator, Tensor out, torch.dtype dtype, torch.layout layout, torch.device device, bool requires_grad)\n * (int low, int high, tuple of ints size, *, torch.Generator generator, Tensor out, torch.dtype dtype, torch.layout layout, torch.device device, bool requires_grad)\n"
     ]
    }
   ],
   "source": [
    "# Example 3 - breaking (to illustrate when it breaks)\n",
    "tens3=torch.randint(2.,15,(4,4))\n",
    "tens"
   ]
  },
  {
   "cell_type": "markdown",
   "metadata": {
    "id": "qTThMgPiowDB"
   },
   "source": [
    "The operation failed because the randint() can only take integers in the example I passed a floatto the start so it could not work\n",
    "\n",
    "The rand() function is a very interesting and useful function as we are going to see in this notebook we are going to use it alot as we go."
   ]
  },
  {
   "cell_type": "code",
   "execution_count": null,
   "metadata": {
    "id": "iJZQePU9owDB"
   },
   "outputs": [],
   "source": [
    "jovian.commit(project='01-tensor-operations')"
   ]
  },
  {
   "cell_type": "markdown",
   "metadata": {
    "id": "fB3q7jjxowDB"
   },
   "source": [
    "."
   ]
  },
  {
   "cell_type": "markdown",
   "metadata": {
    "id": "gFba5idtowDC"
   },
   "source": [
    "."
   ]
  },
  {
   "cell_type": "code",
   "execution_count": null,
   "metadata": {
    "id": "wHNtqe80owDC",
    "outputId": "898f3329-26cc-4819-fd1b-045836742216"
   },
   "outputs": [
    {
     "data": {
      "application/javascript": [
       "window.require && require([\"base/js/namespace\"],function(Jupyter){Jupyter.notebook.save_checkpoint()})"
      ],
      "text/plain": [
       "<IPython.core.display.Javascript object>"
      ]
     },
     "metadata": {},
     "output_type": "display_data"
    },
    {
     "name": "stdout",
     "output_type": "stream",
     "text": [
      "[jovian] Attempting to save notebook..\u001b[0m\n"
     ]
    }
   ],
   "source": [
    "jovian.commit(project='01-tensor-operations')"
   ]
  },
  {
   "cell_type": "code",
   "execution_count": null,
   "metadata": {
    "id": "8MjkwLd9owDC"
   },
   "outputs": [],
   "source": []
  }
 ],
 "metadata": {
  "colab": {
   "collapsed_sections": [],
   "name": "05-tensor-operations.ipynb",
   "provenance": []
  },
  "language_info": {
   "codemirror_mode": {
    "name": "ipython",
    "version": 3
   },
   "file_extension": ".py",
   "mimetype": "text/x-python",
   "name": "python",
   "nbconvert_exporter": "python",
   "pygments_lexer": "ipython3",
   "version": "3.8.5"
  }
 },
 "nbformat": 4,
 "nbformat_minor": 0
}